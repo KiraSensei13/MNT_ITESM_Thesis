{
 "cells": [
  {
   "cell_type": "code",
   "execution_count": null,
   "metadata": {},
   "outputs": [],
   "source": [
    "# PYTHON LIBRARIES\n",
    "%matplotlib inline\n",
    "\n",
    "import numpy as np;\n",
    "import pandas as pd;\n",
    "import warnings\n",
    "warnings.filterwarnings('ignore')\n",
    "import matplotlib.pyplot as plt\n",
    "plt.rc('xtick', labelsize=15)     \n",
    "plt.rc('ytick', labelsize=15)\n",
    "import re\n",
    "\n",
    "from adjustText import adjust_text\n",
    "from scipy import special, optimize"
   ]
  },
  {
   "cell_type": "code",
   "execution_count": null,
   "metadata": {},
   "outputs": [],
   "source": [
    "def get_csv(filename, headDrop, tailDrop):\n",
    "    df = pd.read_csv(filename, header=None, sep='\\n');\n",
    "\n",
    "    # Remove file header (1st 11 rows)\n",
    "    r = 11;\n",
    "    for i in range(r):\n",
    "        df = df.drop([i]);\n",
    "\n",
    "    # Split columns by commas\n",
    "    df = df[0].str.split(\",\", expand=True);\n",
    "\n",
    "    new_header = df.iloc[0]; #grab the first row for the header\n",
    "    df = df[1:]; #take the data less the header row\n",
    "    df.columns = new_header; #set the header row as the df header\n",
    "\n",
    "    units = df.iloc[0]; # Get units\n",
    "    df = df.drop([r+1]); # Remove units row from dataframe\n",
    "    \n",
    "    df.drop(df.head(headDrop).index, inplace=True) # drop first headDrop rows\n",
    "    df.drop(df.tail(tailDrop).index, inplace=True) # drop last tailDrop rows\n",
    "    '''\n",
    "    if headDrop > 0:\n",
    "        for i in range(headDrop):\n",
    "            df = df.drop([r+2+i]);\n",
    "            \n",
    "    if tailDrop > 0:\n",
    "        for i in range(tailDrop):\n",
    "            df = df.drop([len(df)]);\n",
    "    '''\n",
    "\n",
    "    #      [0]    [1]\n",
    "    return units, df;"
   ]
  },
  {
   "cell_type": "markdown",
   "metadata": {},
   "source": [
    "### Cross\n",
    "### $$ \\frac{\\eta - b}{a - b} = \\frac{1}{1 + (c \\dot{\\gamma})^d} $$\n",
    "### $$ \\eta = \\frac{a - b}{1 + (c \\dot{\\gamma})^d} + b $$\n",
    "\n",
    "### where:\n",
    "$a =$ zero rate viscosity <br>\n",
    "$b =$ infinite rate viscosity <br>\n",
    "$c =$ consistency <br>\n",
    "$d =$ rate index"
   ]
  },
  {
   "cell_type": "code",
   "execution_count": null,
   "metadata": {},
   "outputs": [],
   "source": [
    "def Cross_(gamma, eta_zero, eta_inft, kappa, n):\n",
    "    a = eta_zero;\n",
    "    b = eta_inft;\n",
    "    c = kappa;\n",
    "    d = n;\n",
    "    \n",
    "    nume = a - b;\n",
    "    deno = 1 + (c*gamma)**d;\n",
    "    \n",
    "    return (nume/deno) + b;"
   ]
  },
  {
   "cell_type": "markdown",
   "metadata": {},
   "source": [
    "### Carreau\n",
    "### $$ \\frac{\\eta - b}{a - b} = \\left[1 + \\left(c \\dot{\\gamma}\\right)^2\\right]^{\\frac{d - 1}{2}} $$\n",
    "### $$ \\eta = \\frac{a - b}{\\left[1 + \\left(c \\dot{\\gamma}\\right)^2\\right]^{\\frac{1 - d}{2}}} + b $$\n",
    "\n",
    "### where:\n",
    "$a =$ zero rate viscosity <br>\n",
    "$b =$ infinite rate viscosity <br>\n",
    "$c =$ consistency <br>\n",
    "$d =$ rate index"
   ]
  },
  {
   "cell_type": "code",
   "execution_count": null,
   "metadata": {},
   "outputs": [],
   "source": [
    "def Carreau_(gamma, eta_zero, eta_inft, kappa, n):\n",
    "    a = eta_zero;\n",
    "    b = eta_inft;\n",
    "    c = kappa;\n",
    "    d = n;\n",
    "    \n",
    "    nume = a - b;\n",
    "    \n",
    "    base = 1 + (c*gamma)**2;\n",
    "    expo = (1 - d)/2;\n",
    "    deno = base**expo;\n",
    "    \n",
    "    return (nume/deno) + b;"
   ]
  },
  {
   "cell_type": "markdown",
   "metadata": {},
   "source": [
    "### The Carreau-Yasuda Model [1]\n",
    "### $$ \\frac{\\eta - b}{a - b} = \\frac{1}{\\left[1 + \\left(c \\dot{\\gamma}\\right)^e\\right]^{\\frac{1 - d}{e}}} $$\n",
    "### $$ \\frac{\\eta - \\eta_{\\infty}}{\\eta_0 - \\eta_{\\infty}} = \\frac{1}{\\left[1 + \\left(\\kappa \\dot{\\gamma}\\right)^a\\right]^{\\frac{(1 - n)}{a}}} $$\n",
    "### $$ \\eta = \\frac{\\eta_0 - \\eta_{\\infty}}{\\left[1 + \\left(\\kappa \\dot{\\gamma}\\right)^a\\right]^{\\frac{(1 - n)}{a}}} + \\eta_{\\infty} $$\n",
    "\n",
    "### where:\n",
    "$\\eta =$ Viscosity <br>\n",
    "$\\dot{\\gamma} =$ Shear rate <br>\n",
    "$\\eta_{\\infty} =$ Infinite shear rate viscosity <br>\n",
    "$\\eta_0 =$ Zero shear rate viscosity <br>\n",
    "$\\kappa =$ Time constant <br>\n",
    "$n =$ The Power Law index <br>\n",
    "$a =$ The width of the transition region between the zero shear viscosity and the Power Law region\n",
    "\n",
    "#### [1] Osswald, T., Rudolph, N., Osswald, T., & Rudolph, N. (2014). Generalized Newtonian Fluid (GNF) Models. Polymer Rheology, 59–99. https://doi.org/10.3139/9781569905234.003"
   ]
  },
  {
   "cell_type": "code",
   "execution_count": null,
   "metadata": {},
   "outputs": [],
   "source": [
    "def CarreauYasuda_(gamma, eta_zero, eta_inft, kappa, n, m):\n",
    "    a = eta_zero;\n",
    "    b = eta_inft;\n",
    "    c = kappa;\n",
    "    d = n;\n",
    "    e = m;\n",
    "    \n",
    "    nume = a - b;\n",
    "    \n",
    "    base = 1 + (c*gamma)**e;\n",
    "    expo = (1 - d)/e;\n",
    "    deno = base**expo;\n",
    "    \n",
    "    return (nume/deno) + b;"
   ]
  },
  {
   "cell_type": "markdown",
   "metadata": {},
   "source": [
    "### Sisko\n",
    "### $$ \\eta = a + b \\dot{\\gamma}^{c - 1} $$\n",
    "\n",
    "### where:\n",
    "$a =$ infinite rate viscosity <br>\n",
    "$b =$ consistency <br>\n",
    "$c =$ rate index"
   ]
  },
  {
   "cell_type": "code",
   "execution_count": null,
   "metadata": {},
   "outputs": [],
   "source": [
    "def sisko_(gamma, eta_inft, kappa, n):\n",
    "    a = eta_inft;\n",
    "    b = kappa;\n",
    "    c = n;\n",
    "    \n",
    "    expo = c - 1;\n",
    "    \n",
    "    return a + b*(gamma**expo);"
   ]
  },
  {
   "cell_type": "markdown",
   "metadata": {},
   "source": [
    "### Williamson\n",
    "### $$ \\eta = \\frac{a}{1 + (b \\dot{\\gamma})^c} $$\n",
    "\n",
    "### where:\n",
    "$a =$ zero rate viscosity <br>\n",
    "$b =$ consistency <br>\n",
    "$c =$ rate index"
   ]
  },
  {
   "cell_type": "code",
   "execution_count": null,
   "metadata": {},
   "outputs": [],
   "source": [
    "def williamson_(gamma, eta_zero, kappa, n):\n",
    "    a = eta_zero;\n",
    "    b = kappa;\n",
    "    c = n;\n",
    "    \n",
    "    deno = 1 + (b*gamma)**c;\n",
    "    \n",
    "    return a/deno;"
   ]
  },
  {
   "cell_type": "markdown",
   "metadata": {},
   "source": [
    "---\n",
    "### Best Fit"
   ]
  },
  {
   "cell_type": "code",
   "execution_count": null,
   "metadata": {},
   "outputs": [],
   "source": [
    "def fit_Model_(filename, headDrop, tailDrop, plotname, modelName, eta_zero=0, eta_inft=0, kappa=0, n=0, m=0):\n",
    "    # get units and Data\n",
    "    units_df = get_csv(filename, headDrop, tailDrop)[0]\n",
    "    nSeal_df = get_csv(filename, headDrop, tailDrop)[1]\n",
    "\n",
    "    # Chose what to plot\n",
    "    x_index = 1; # gamma = Shear rate\n",
    "    y_index = 2; # eta   = Viscosity\n",
    "\n",
    "    # Optimization process\n",
    "    gamma = nSeal_df.iloc[:, x_index].to_numpy().astype(np.float);\n",
    "    eta   = nSeal_df.iloc[:, y_index].to_numpy().astype(np.float);\n",
    "\n",
    "    # remove neg values\n",
    "    gamma = gamma[eta >= 0]\n",
    "    eta = eta[eta >= 0]\n",
    "\n",
    "    # Optimize according to the selected modelName\n",
    "    if modelName == 'Cross':\n",
    "        p0 = eta_zero, eta_inft, kappa, n;\n",
    "        eta_fit  = Cross_(gamma, eta_zero, eta_inft, kappa, n);\n",
    "    \n",
    "    elif modelName == 'Carreau':\n",
    "        p0 = eta_zero, eta_inft, kappa, n;\n",
    "        eta_fit  = Carreau_(gamma, eta_zero, eta_inft, kappa, n);\n",
    "    \n",
    "    elif modelName == 'CarreauYasuda':\n",
    "        p0 = eta_zero, eta_inft, kappa, n, m;\n",
    "        eta_fit  = CarreauYasuda_(gamma, eta_zero, eta_inft, kappa, n, m);\n",
    "    \n",
    "    elif modelName == 'Sisko':\n",
    "        p0 = eta_inft, kappa, n;\n",
    "        eta_fit  = sisko_(gamma, eta_inft, kappa, n);\n",
    "    \n",
    "    elif modelName == 'Williamson':\n",
    "        p0 = eta_zero, kappa, n;\n",
    "        eta_fit  = williamson_(gamma, eta_zero, kappa, n);\n",
    "    \n",
    "    else:\n",
    "        return \"modelName shall take a valid value. Use help(fit_Model_) for more details.s\"; \n",
    "\n",
    "    return gamma, eta_fit, eta_zero, eta_inft"
   ]
  },
  {
   "cell_type": "code",
   "execution_count": null,
   "metadata": {},
   "outputs": [],
   "source": [
    "def compareData_wFits_(plotname, filemanes, headDrop, tailDrop, plotlabels, Model, eta_zero, eta_inft, kappa, n, m, plotDatapoints=True, plotModel=True):\n",
    "    \n",
    "    # Get units\n",
    "    units_df = get_csv(filemanes[0], headDrop[0], tailDrop[0])[0]\n",
    "    display(units_df)\n",
    "\n",
    "    # Draw plot canvas\n",
    "    scale = 6;\n",
    "    plt.subplots(figsize=(3*scale, 2*scale));\n",
    "    ax0 = plt.gca()\n",
    "\n",
    "    # Chose what to plot\n",
    "    x_index = 1\n",
    "    y_index = 2\n",
    "\n",
    "    # Plot\n",
    "    for i in range(len(filemanes)):\n",
    "        y_fit = fit_Model_(\n",
    "            fileNames[i],\n",
    "            headDrops[i],\n",
    "            tailDrops[i],\n",
    "            fileDescription[i] + \" - \" + fileNames[i],\n",
    "            Model[i],\n",
    "            eta_zero[i],\n",
    "            eta_inft[i],\n",
    "            kappa[i],\n",
    "            n[i],\n",
    "            m[i]\n",
    "        );\n",
    "        \n",
    "        _0_ps_thf_df = get_csv(filemanes[i], headDrop[i], tailDrop[i])[1]\n",
    "        x = _0_ps_thf_df.iloc[:, x_index].to_numpy().astype(np.float)\n",
    "        y = _0_ps_thf_df.iloc[:, y_index].to_numpy().astype(np.float)\n",
    "\n",
    "        if plotDatapoints: plt.scatter(x, y, s=0.25);\n",
    "        # s=(i*4)+2\n",
    "\n",
    "        if plotModel:\n",
    "            if Model[i] == 'Sisko':\n",
    "                plt.plot(y_fit[0], y_fit[1], linewidth=2,\n",
    "                         label=plotlabels[i] + '; ' +\n",
    "                         r'$\\eta_{\\infty} = $' + str(round(y_fit[3], 3)) + r' $Pa \\cdot s$' + ';');\n",
    "            elif Model[i] == 'Williamson':\n",
    "                plt.plot(y_fit[0], y_fit[1], linewidth=2,\n",
    "                         label=plotlabels[i] + '; ' +\n",
    "                         r'$\\eta_0 = $' + str(round(y_fit[2], 3)) + r' $Pa \\cdot s$' + ';');\n",
    "            else:\n",
    "                plt.plot(y_fit[0], y_fit[1], linewidth=2,\n",
    "                         label=plotlabels[i] + '; ' +\n",
    "                         r'$\\eta_0 = $' + str(round(y_fit[2], 3)) + r' $Pa \\cdot s$' + '; ' +\n",
    "                         r'$\\eta_{\\infty} = $' + str(round(y_fit[3], 4)) + r' $Pa \\cdot s$' + ';');\n",
    "    \n",
    "    ax0.tick_params(\n",
    "        which='both',\n",
    "        direction='in',\n",
    "        # length=5,\n",
    "        width=2,\n",
    "        bottom=True,\n",
    "        top=True,\n",
    "        left=True,\n",
    "        right=True);\n",
    "    \n",
    "    # Display plots\n",
    "    plt.yscale('log');\n",
    "    plt.xscale('log');\n",
    "    plt.xlabel(str(_0_ps_thf_df.columns[x_index]) + \" [\" + str(units_df[x_index]) + \"]\", fontsize=24);\n",
    "    plt.ylabel(str(_0_ps_thf_df.columns[y_index]) + \" [\" + str(units_df[y_index]) + \"]\", fontsize=24);\n",
    "    plt.title(plotname, size=24);\n",
    "    plt.legend(prop={'size': 16}, frameon=False);\n",
    "    plt.savefig('plt_' + re.sub('[^A-Za-z0-9]+', '', plotname) + '.png', dpi=300, bbox_inches='tight');\n",
    "    display(plt);"
   ]
  },
  {
   "cell_type": "code",
   "execution_count": null,
   "metadata": {},
   "outputs": [],
   "source": [
    "def plot_concentrationVSviscosity(concentration, viscosity, polymer, solvent):\n",
    "    # PLOT FIG 1\n",
    "    scale = 6;\n",
    "    fig, ax0 = plt.subplots(figsize=(3*scale, 2*scale));\n",
    "\n",
    "    # Plot\n",
    "    #concentration = [ 0.25,  5.00,  10.00,   15.00,   20.00,   30.00,   35.00 , 40.00];\n",
    "    #viscosity     = [0.0613, 0.162, 0.11371, 0.15866, 0.171,  1.7116, 5.07105, 7.2119]; #0.13762\n",
    "    plt.scatter(concentration, viscosity, s=30);\n",
    "    plt.plot(concentration, viscosity, ':', linewidth=2);\n",
    "\n",
    "    ax0.tick_params(\n",
    "        which='both',\n",
    "        direction='in',\n",
    "        # length=5,\n",
    "        width=2,\n",
    "        bottom=True,\n",
    "        top=True,\n",
    "        left=True,\n",
    "        right=True);\n",
    "\n",
    "    #plt.xlim(min(concentration), max(concentration))\n",
    "    plt.xscale('log');\n",
    "    plt.yscale('log');\n",
    "\n",
    "    # add annotations (references on each point)\n",
    "    texts_ax0 = []\n",
    "    #cnt = '';\n",
    "    for xs, ys in zip(concentration, viscosity):\n",
    "        ss = str(xs);\n",
    "        # Do not duplicate labels\n",
    "        if (xs > 0.0) and (ys > 0.0):# and not(ss in cnt):\n",
    "            # Add text annotations to the axes\n",
    "            # if xs == 0.00001: ss = '0.0'\n",
    "            texts_ax0.append(ax0.text(xs, ys, ss + ' ' + r'$wt\\%$', fontsize=15));\n",
    "            #cnt = cnt + ss + ' ';\n",
    "    # avoid overlaps between annotations and add a linking line\n",
    "    kwargs = dict(transform=ax0.transAxes);\n",
    "    adjust_text(texts_ax0, ax=ax0, arrowprops=dict(arrowstyle=\"-\", color='k', lw=0.5), **kwargs);\n",
    "\n",
    "    # Display plots\n",
    "    plt.xlabel(polymer + ' Weight Percent in ' + solvent + '    ' + r'$\\left[ wt\\% \\right]$', fontsize=24);\n",
    "    plt.ylabel('Zero Shear Viscosity' + '    ' + r'$\\left[ Pa \\cdot s \\right]$', fontsize=24);\n",
    "    #plt.title(\"PSinTHF\", size=24);\n",
    "    #plt.legend(prop={'size': 18});\n",
    "    display(plt);\n",
    "\n",
    "    plt.savefig('c_vs_v_' + polymer + 'in' + solvent + '.png', dpi=200);"
   ]
  },
  {
   "cell_type": "code",
   "execution_count": null,
   "metadata": {},
   "outputs": [],
   "source": [
    "# TESTING FUNCTIONS\n",
    "plotName        = \"Dummy PLOT\";\n",
    "fileNames       = [\"./csv/psb_nmp_00_10.csv\"];\n",
    "Model           = [          'CarreauYasuda'];\n",
    "eta_zero        = [                0.0373544];\n",
    "eta_inft        = [               0.00435907];\n",
    "kappa           = [                  1.35666];\n",
    "n               = [                 -1.45866];\n",
    "m               = [                  2.30305];\n",
    "fileDescription = [             \"Dummy PLOT\"];\n",
    "headDrops       = [                        1];\n",
    "tailDrops       = [                        0];\n",
    "\n",
    "# Plot all files in one plot\n",
    "compareData_wFits_(plotName, fileNames, headDrops, tailDrops, fileDescription, Model, eta_zero, eta_inft, kappa, n, m, plotDatapoints=True)"
   ]
  },
  {
   "cell_type": "markdown",
   "metadata": {},
   "source": [
    "---\n",
    "---\n",
    "# PEO in SU8"
   ]
  },
  {
   "cell_type": "code",
   "execution_count": null,
   "metadata": {},
   "outputs": [],
   "source": [
    "#Standard Error\n",
    "np.sqrt(1-0.95883)*0.001054022\n",
    "#         r-sqr     stdDev"
   ]
  },
  {
   "cell_type": "code",
   "execution_count": null,
   "metadata": {},
   "outputs": [],
   "source": [
    "plotName        = \"all wt% PEO in SU8\";\n",
    "fileNames       = [\"./csv/peo_su8_all_000.csv\", \"./csv/peo_su8_all_025.csv\", \"./csv/peo_su8_all_050.csv\", \"./csv/peo_su8_all_075.csv\", \"./csv/peo_su8_all_100.csv\"];\n",
    "Model           = [                  'Carreau',                   'Carreau',                   'Carreau',             'CarreauYasuda',             'CarreauYasuda'];\n",
    "eta_zero        = [                  0.0829248,                     60.0215,                     533.094,                     4464.57,                     15991.6];\n",
    "eta_inft        = [                 0.00765361,                   0.0218821,                  0.00350675,                  0.00464033,                  -0.0100825];\n",
    "kappa           = [                    53.5767,                     373.190,                     82.3492,                     144.815,                     91.8066];\n",
    "n               = [                   0.292238,                    0.242361,                  -0.0105593,                   0.0353161,                    0.183502];\n",
    "m               = [                       None,                        None,                        None,                     19.2880,                     1.70415];\n",
    "fileDescription = [                 \"0.00 wt%\",                  \"0.25 wt%\",                  \"0.50 wt%\",                  \"0.75 wt%\",                  \"1.00 wt%\"];\n",
    "headDrops       = [                          0,                           0,                           0,                           0,                           0];\n",
    "tailDrops       = [                          0,                           0,                           0,                           0,                           0];\n",
    "\n",
    "# Plot all files in one plot\n",
    "compareData_wFits_(plotName, fileNames, headDrops, tailDrops, fileDescription, Model, eta_zero, eta_inft, kappa, n, m);"
   ]
  },
  {
   "cell_type": "code",
   "execution_count": null,
   "metadata": {},
   "outputs": [],
   "source": [
    "polymer = 'PEO';\n",
    "solvent = 'SU8';\n",
    "concentration = [0.000001, 0.25, 0.50, 0.75, 1.00];\n",
    "viscosity     = [0.0083, 60.022, 533.094, 4464.57, 15991.6];\n",
    "plot_concentrationVSviscosity(concentration, viscosity, polymer, solvent);"
   ]
  },
  {
   "cell_type": "markdown",
   "metadata": {},
   "source": [
    "---\n",
    "# PS in THF"
   ]
  },
  {
   "cell_type": "code",
   "execution_count": null,
   "metadata": {},
   "outputs": [],
   "source": [
    "plotName        = \"PS wt% in THF\";\n",
    "fileNames       = [\"./csv/ps_thf_00_0.csv\", \"./csv/ps_thf_00_3.csv\", \"./csv/ps_thf_00_1.csv\", \"./csv/ps_thf_00_2.csv\",  \"./csv/ps_thf_01_2.csv\", \"./csv/ps_thf_01_0.csv\", \"./csv/ps_thf_01_3.csv\", \"./csv/ps_thf_01_4.csv\"];\n",
    "Model           = [        'CarreauYasuda',         'CarreauYasuda',         'CarreauYasuda',         'CarreauYasuda',          'CarreauYasuda',         'CarreauYasuda',         'CarreauYasuda',         'CarreauYasuda'];\n",
    "eta_zero        = [              0.0613315,                0.161946,                0.113707,                 0.15866,                 0.165994,                 1.71166,                 5.07105,                 7.76980];\n",
    "eta_inft        = [             0.00103819,              0.00454392,              0.00504335,               0.0230678,                0.0625735,                 1.08963,                -1.03653,                 6.53211];\n",
    "kappa           = [               0.282181,              0.00833135,            0.0000977427,                 505.638,                  96.4016,                 306.032,            0.0000552504,               0.0267296];\n",
    "n               = [               -2.39641,                -15.7211,                -23.7030,                  0.1556,                 0.234425,               -0.815241,                0.609282,                0.606457];\n",
    "m               = [               0.345190,                0.416830,                0.309748,                 12.1529,                 0.296547,                 59.9135,                0.486477,                 162.601];\n",
    "fileDescription = [             \"0.25 wt%\",              \"5.00 wt%\",             \"10.00 wt%\",             \"15.00 wt%\",              \"20.00 wt%\",             \"30.00 wt%\",             \"35.00 wt%\",             \"40.00 wt%\"];\n",
    "headDrops       = [ 0, 0, 0, 0, 0, 0, 0, 0, 0, 0];\n",
    "tailDrops       = [ 0, 0, 0, 0, 0, 0, 0, 0, 0, 0];\n",
    "a               = [ 0, 0, 0, 0, 0, 0, 0, 0, 0, 0];\n",
    "\n",
    "# Plot all files in one plot\n",
    "compareData_wFits_(plotName, fileNames, headDrops, tailDrops, fileDescription, Model, eta_zero, eta_inft, kappa, n, m)"
   ]
  },
  {
   "cell_type": "code",
   "execution_count": null,
   "metadata": {},
   "outputs": [],
   "source": [
    "polymer = 'PS';\n",
    "solvent = 'THF';\n",
    "concentration = [ 0.25,  5.00, 10.00, 15.00, 20.00, 30.00, 35.00, 40.00];\n",
    "viscosity     = [0.061, 0.162, 0.114, 0.159, 0.166, 1.712, 5.071,  7.77];\n",
    "plot_concentrationVSviscosity(concentration, viscosity, polymer, solvent);"
   ]
  },
  {
   "cell_type": "markdown",
   "metadata": {},
   "source": [
    "---\n",
    "# PSB in NMP"
   ]
  },
  {
   "cell_type": "code",
   "execution_count": null,
   "metadata": {},
   "outputs": [],
   "source": [
    "plotName        = \"PSB wt% in NMP\";\n",
    "fileNames       = [\"./csv/psb_nmp_00_10.csv\", \"./csv/psb_nmp_00_11.csv\", \"./csv/psb_nmp_00_12.csv\", \"./csv/psb_nmp_00_13.csv\"];\n",
    "Model           = [          'CarreauYasuda',           'CarreauYasuda',           'CarreauYasuda',           'CarreauYasuda'];\n",
    "eta_zero        = [                0.0164359,                 0.0208578,                 0.0284758,                   34.8609];\n",
    "eta_inft        = [               0.00313402,                0.00401552,                0.00668681,                 0.0827903];\n",
    "kappa           = [                  1.36688,                   19.4089,                   1.43817,                 0.0277821];\n",
    "n               = [                 -1.21730,                  -1.15933,                  -1.53303,                  -5.86097];\n",
    "m               = [                  2.41365,                   2.00232,                   1.93921,                  0.246714];\n",
    "fileDescription = [             \"1.00 wt%; \",              \"4.00 wt%; \",              \"8.00 wt%; \",             \"12.00 wt%; \"];\n",
    "headDrops       = [ 0, 0, 0, 0, 0];\n",
    "tailDrops       = [ 0, 0, 0, 0, 0];\n",
    "a               = [ 0, 0, 0, 0, 0];\n",
    "\n",
    "# Plot all files in one plot\n",
    "compareData_wFits_(plotName, fileNames, headDrops, tailDrops, fileDescription, Model, eta_zero, eta_inft, kappa, n, m)"
   ]
  },
  {
   "cell_type": "code",
   "execution_count": null,
   "metadata": {},
   "outputs": [],
   "source": [
    "polymer = 'PSB';\n",
    "solvent = 'NMP';\n",
    "concentration = [ 1.00,  4.00,  8.00, 12.00];\n",
    "viscosity     = [0.016, 0.021, 0.028, 34.861];\n",
    "plot_concentrationVSviscosity(concentration, viscosity, polymer, solvent);"
   ]
  },
  {
   "cell_type": "markdown",
   "metadata": {},
   "source": [
    "---\n",
    "# PSB in THF and DMF"
   ]
  },
  {
   "cell_type": "code",
   "execution_count": null,
   "metadata": {},
   "outputs": [],
   "source": [
    "plotName        = \"PSB wt% in THF and DMF\";\n",
    "fileNames       = [ \"./csv/PSB_THFDMF_00_6.csv\", \"./csv/PSB_THFDMF_00_7.csv\", \"./csv/PSB_THFDMF_01_7.csv\", \"./csv/PSB_THFDMF_01_8.csv\", \"./csv/PSB_THFDMF_01_5.csv\", \"./csv/PSB_THFDMF_01_6.csv\", \"./csv/PSB_THFDMF_00_5.csv\"];\n",
    "Model           = [             'CarreauYasuda',             'CarreauYasuda',             'CarreauYasuda',             'CarreauYasuda',             'CarreauYasuda',             'CarreauYasuda',             'CarreauYasuda'];\n",
    "eta_zero        = [                   0.0317899,                    0.104231,                   0.0529622,                   0.0796603,                   0.0924487,                     1.99619,                     8.37823];\n",
    "eta_inft        = [                  0.00328526,                   0.0108672,                   0.0300774,                   0.0600711,                   0.0173480,                    0.101458,                    0.355241];\n",
    "kappa           = [                     20.4763,               0.00000345047,                     185.285,                     131.274,                0.0000370328,                    0.659296,              0.000000148113];\n",
    "n               = [                  -0.0836830,                    -38.1028,                    0.272104,                    0.238467,                   -0.859592,                   -0.309737,                    -6.14613];\n",
    "m               = [                     23.7864,                    0.322261,                     1.67858,                     9.60607,                    0.139896,                    0.198368,                    0.165613];\n",
    "fileDescription = [                \"5.00 wt%; \",                \"7.50 wt%; \",               \"10.00 wt%; \",               \"12.50 wt%; \",               \"15.00 wt%; \",               \"20.00 wt%; \",               \"25.00 wt%; \"];\n",
    "headDrops       = [ 0, 0, 0, 0, 0, 0, 0, 0, 0, 0 ];\n",
    "tailDrops       = [ 0, 0, 0, 0, 0, 0, 0, 0, 0, 0 ];\n",
    "a               = [ 0, 0, 0, 0, 0, 0, 0, 0, 0, 0 ];\n",
    "\n",
    "# Plot all files in one plot\n",
    "compareData_wFits_(plotName, fileNames, headDrops, tailDrops, fileDescription, Model, eta_zero, eta_inft, kappa, n, m)"
   ]
  },
  {
   "cell_type": "code",
   "execution_count": null,
   "metadata": {},
   "outputs": [],
   "source": [
    "polymer = 'PSB';\n",
    "solvent = 'THF-DMF';\n",
    "concentration = [5.00,   7.50, 10.00, 12.50, 15.00, 20.00, 25.00];\n",
    "viscosity     = [0.032, 0.104, 0.053,  0.08, 0.092, 1.996, 8.378];\n",
    "plot_concentrationVSviscosity(concentration, viscosity, polymer, solvent);"
   ]
  },
  {
   "cell_type": "markdown",
   "metadata": {},
   "source": [
    "---\n",
    "# PSMS in DMF"
   ]
  },
  {
   "cell_type": "code",
   "execution_count": null,
   "metadata": {},
   "outputs": [],
   "source": [
    "plotName        = \"PSMS wt% in DMF\";\n",
    "fileNames       = [\"./csv/psms_dmf_00_6.csv\", \"./csv/psms_dmf_00_7.csv\", \"./csv/psms_dmf_00_8.csv\", \"./csv/psms_dmf_00_10.csv\"];\n",
    "Model           = [          'CarreauYasuda',           'CarreauYasuda',           'CarreauYasuda',            'CarreauYasuda'];\n",
    "eta_zero        = [                 0.161264,                  0.282163,                   2.71305,                    14.8015];\n",
    "eta_inft        = [               0.00465213,                0.00273374,                0.00154317,                 0.00416426];\n",
    "kappa           = [                  3.97780,                   4.50601,                   19.2024,                    123.939];\n",
    "n               = [                -0.641457,                  -2.27904,                  -1.61674,                  0.0124974];\n",
    "m               = [                  1.27503,                   2.03869,                  0.677510,                    76.4016];\n",
    "fileDescription = [              \"0.612 wt%\",               \"4.940 wt%\",               \"8.000 wt%\",               \"15.165 wt%\"];\n",
    "headDrops       = [ 0, 0, 0, 0 ];\n",
    "tailDrops       = [ 0, 0, 0, 0 ];\n",
    "\n",
    "# Plot all files in one plot\n",
    "compareData_wFits_(plotName, fileNames, headDrops, tailDrops, fileDescription, Model, eta_zero, eta_inft, kappa, n, m)"
   ]
  },
  {
   "cell_type": "code",
   "execution_count": null,
   "metadata": {},
   "outputs": [],
   "source": [
    "polymer = 'PSMS';\n",
    "solvent = 'DMF';\n",
    "concentration = [ 0.50,  5.00, 10.00,  15.00];\n",
    "viscosity     = [0.161, 0.282, 2.713, 14.802];\n",
    "plot_concentrationVSviscosity(concentration, viscosity, polymer, solvent);"
   ]
  },
  {
   "cell_type": "markdown",
   "metadata": {},
   "source": [
    "---\n",
    "# PVK in CHL"
   ]
  },
  {
   "cell_type": "code",
   "execution_count": null,
   "metadata": {},
   "outputs": [],
   "source": [
    "plotName        = \"PVK wt% in CHL\";\n",
    "fileNames       = [\"./csv/pvk_chl_00_0.csv\", \"./csv/pvk_chl_00_1.csv\", \"./csv/pvk_chl_00_2.csv\", \"./csv/pvk_chl_00_3.csv\", \"./csv/pvk_chl_00_4.csv\"];\n",
    "Model           = [         'CarreauYasuda',          'CarreauYasuda',          'CarreauYasuda',          'CarreauYasuda',          'CarreauYasuda'];\n",
    "eta_zero        = [               0.0178832,                 0.733928,                  41.8606,                  392.242,                  4339.79];\n",
    "eta_inft        = [              0.00048989,               0.0038327,                0.00208968,                0.0112680,               0.229249];\n",
    "kappa           = [          0.000000741759,                  192.732,                  5525.44,                  130.915,                  8.95728];\n",
    "n               = [                -1.43367,                0.312959,                  0.420499,                0.0729450,                0.357149];\n",
    "m               = [                0.119611,                  20.8330,                  4.06853,                  1.67450,                  1.12951];\n",
    "fileDescription = [              \"0.00 wt%\",               \"0.01 wt%\",              \"15.00 wt%\",              \"20.00 wt%\",              \"30.00 wt%\"];\n",
    "headDrops       = [ 0, 0, 0, 0, 0 ];\n",
    "tailDrops       = [ 0, 0, 0, 0, 0 ];\n",
    "\n",
    "# Plot all files in one plot\n",
    "compareData_wFits_(plotName, fileNames, headDrops, tailDrops, fileDescription, Model, eta_zero, eta_inft, kappa, n, m)"
   ]
  },
  {
   "cell_type": "code",
   "execution_count": null,
   "metadata": {},
   "outputs": [],
   "source": [
    "polymer = 'PCK';\n",
    "solvent = 'CHL';\n",
    "concentration = [0.0001,  0.01, 15.00,   20.00,     30.0];\n",
    "viscosity     = [ 0.018, 0.734, 41.861, 392.242, 4339.79];\n",
    "plot_concentrationVSviscosity(concentration, viscosity, polymer, solvent);"
   ]
  },
  {
   "cell_type": "markdown",
   "metadata": {},
   "source": [
    "---\n",
    "# PVK in SU-8"
   ]
  },
  {
   "cell_type": "code",
   "execution_count": null,
   "metadata": {},
   "outputs": [],
   "source": [
    "plotName        = \"PVK wt% in SU8\";\n",
    "fileNames       = [\"./csv/pvk_su8_00_0.csv\", \"./csv/pvk_su8_00_1.csv\", \"./csv/pvk_su8_00_2.csv\", \"./csv/pvk_su8_00_3.csv\", \"./csv/pvk_su8_00_4.csv\"];\n",
    "Model           = [         'CarreauYasuda',          'CarreauYasuda',          'CarreauYasuda',          'CarreauYasuda',          'CarreauYasuda'];\n",
    "eta_zero        = [                 1.59849,                 12.8994,                  49.6569,                   4880.56,                  311846];\n",
    "eta_inft        = [              0.00823985,               0.0287641,                0.0155515,                  0.012598,               7.48169];\n",
    "kappa           = [             6.05562e-33,                  341.820,                  19.7619,                  1420.02,                  2701.12];\n",
    "n               = [                -25.3092,                0.197417,                  0.287743,                -0.105834,                0.426224];\n",
    "m               = [               0.0638541,                  27.0890,                  7.67389,                  6.73073,                6.38515];\n",
    "fileDescription = [              \"0.00 wt%\",               \"0.0027 wt%\",              \"0.75 wt%\",              \"3.80 wt%\",              \"20.00 wt%\"];\n",
    "headDrops       = [ 0, 0, 0, 0, 0 ];\n",
    "tailDrops       = [ 0, 0, 0, 0, 0 ];\n",
    "\n",
    "# Plot all files in one plot\n",
    "compareData_wFits_(plotName, fileNames, headDrops, tailDrops, fileDescription, Model, eta_zero, eta_inft, kappa, n, m)"
   ]
  },
  {
   "cell_type": "code",
   "execution_count": null,
   "metadata": {},
   "outputs": [],
   "source": [
    "polymer = 'PCK';\n",
    "solvent = 'SU8';\n",
    "concentration = [0.00001, 0.00273,   0.75,     3.8,     20];\n",
    "viscosity     = [  1.598,  12.899, 49.657, 4880.56, 311846];\n",
    "plot_concentrationVSviscosity(concentration, viscosity, polymer, solvent);"
   ]
  },
  {
   "cell_type": "markdown",
   "metadata": {},
   "source": [
    "---\n",
    "---\n",
    "---"
   ]
  },
  {
   "cell_type": "markdown",
   "metadata": {},
   "source": [
    "---\n",
    "# Standard Conforming to ASTM Oil Standard"
   ]
  },
  {
   "cell_type": "code",
   "execution_count": null,
   "metadata": {},
   "outputs": [],
   "source": [
    "plotName        = \"Standard Conforming to ASTM Oil Standard - Water Seal Test\";\n",
    "fileNames       = [\"./csv/std_noseal.csv\", \"./csv/std_sealed.csv\"];\n",
    "Model           = [       'CarreauYasuda',        'CarreauYasuda'];\n",
    "eta_zero        = [               1.56377,                1.50646];\n",
    "eta_inft        = [               1.57853,                1.47937];\n",
    "kappa           = [               2.03980,                3.36134];\n",
    "n               = [              -10.4543,              0.0696546];\n",
    "m               = [               5.41514,                128.111];\n",
    "fileDescription = [     \"no water seal; \",       \"water sealed; \"];\n",
    "headDrops       = [                    34,                     34];\n",
    "tailDrops       = [                    51,                     51];\n",
    "\n",
    "# Plot all files in one plot\n",
    "compareData_wFits_(plotName, fileNames, headDrops, tailDrops, fileDescription, Model, eta_zero, eta_inft, kappa, n, m)"
   ]
  },
  {
   "cell_type": "code",
   "execution_count": null,
   "metadata": {},
   "outputs": [],
   "source": [
    "print(np.logspace(np.log10(0.00001), np.log10(0.25), 5)) #3.75"
   ]
  },
  {
   "cell_type": "code",
   "execution_count": null,
   "metadata": {},
   "outputs": [],
   "source": []
  }
 ],
 "metadata": {
  "kernelspec": {
   "display_name": "Python 3",
   "language": "python",
   "name": "python3"
  },
  "language_info": {
   "codemirror_mode": {
    "name": "ipython",
    "version": 3
   },
   "file_extension": ".py",
   "mimetype": "text/x-python",
   "name": "python",
   "nbconvert_exporter": "python",
   "pygments_lexer": "ipython3",
   "version": "3.7.7"
  }
 },
 "nbformat": 4,
 "nbformat_minor": 4
}
