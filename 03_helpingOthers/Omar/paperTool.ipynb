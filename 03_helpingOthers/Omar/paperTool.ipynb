{
 "cells": [
  {
   "cell_type": "markdown",
   "metadata": {},
   "source": [
    "---\n",
    "# Option A: scholarly 0.2.5\n",
    "### https://pypi.org/project/scholarly/"
   ]
  },
  {
   "cell_type": "code",
   "execution_count": 2,
   "metadata": {},
   "outputs": [],
   "source": [
    "import my_scholarly as scholarly"
   ]
  },
  {
   "cell_type": "markdown",
   "metadata": {},
   "source": [
    "## Retrieve the author's data, fill-in, and print"
   ]
  },
  {
   "cell_type": "code",
   "execution_count": 28,
   "metadata": {},
   "outputs": [
    {
     "name": "stdout",
     "output_type": "stream",
     "text": [
      "{'_filled': True,\n",
      " 'affiliation': 'Tecnologico de Monterrey',\n",
      " 'citedby': 402,\n",
      " 'citedby5y': 318,\n",
      " 'cites_per_year': {2009: 4,\n",
      "                    2010: 9,\n",
      "                    2011: 18,\n",
      "                    2012: 14,\n",
      "                    2013: 20,\n",
      "                    2014: 16,\n",
      "                    2015: 36,\n",
      "                    2016: 55,\n",
      "                    2017: 69,\n",
      "                    2018: 69,\n",
      "                    2019: 62,\n",
      "                    2020: 26},\n",
      " 'coauthors': [<scholarly.scholarly.Author object at 0x0000024C545DB278>,\n",
      "               <scholarly.scholarly.Author object at 0x0000024C545DB080>,\n",
      "               <scholarly.scholarly.Author object at 0x0000024C545DB2B0>,\n",
      "               <scholarly.scholarly.Author object at 0x0000024C545DB2E8>,\n",
      "               <scholarly.scholarly.Author object at 0x0000024C545DB358>,\n",
      "               <scholarly.scholarly.Author object at 0x0000024C545DB390>,\n",
      "               <scholarly.scholarly.Author object at 0x0000024C545DB3C8>,\n",
      "               <scholarly.scholarly.Author object at 0x0000024C545DB400>,\n",
      "               <scholarly.scholarly.Author object at 0x0000024C545DB438>,\n",
      "               <scholarly.scholarly.Author object at 0x0000024C545DB470>,\n",
      "               <scholarly.scholarly.Author object at 0x0000024C545DB4A8>,\n",
      "               <scholarly.scholarly.Author object at 0x0000024C545DB4E0>,\n",
      "               <scholarly.scholarly.Author object at 0x0000024C545DB518>,\n",
      "               <scholarly.scholarly.Author object at 0x0000024C545DB550>,\n",
      "               <scholarly.scholarly.Author object at 0x0000024C545DB588>],\n",
      " 'email': '@tec.mx',\n",
      " 'hindex': 8,\n",
      " 'hindex5y': 8,\n",
      " 'i10index': 8,\n",
      " 'i10index5y': 8,\n",
      " 'id': 'wcx7qdYAAAAJ',\n",
      " 'interests': ['Photochemistry',\n",
      "               'Photophysics',\n",
      "               'Photocatalysis',\n",
      "               'and Polymer Chemistry',\n",
      "               'Science and Engineering'],\n",
      " 'name': 'Alan Aguirre-Soto',\n",
      " 'publications': [<scholarly.scholarly.Publication object at 0x0000024C545DB5C0>,\n",
      "                  <scholarly.scholarly.Publication object at 0x0000024C545DB5F8>,\n",
      "                  <scholarly.scholarly.Publication object at 0x0000024C545DB630>,\n",
      "                  <scholarly.scholarly.Publication object at 0x0000024C545DB668>,\n",
      "                  <scholarly.scholarly.Publication object at 0x0000024C545DB6A0>,\n",
      "                  <scholarly.scholarly.Publication object at 0x0000024C545DB6D8>,\n",
      "                  <scholarly.scholarly.Publication object at 0x0000024C545DB710>,\n",
      "                  <scholarly.scholarly.Publication object at 0x0000024C545DB748>,\n",
      "                  <scholarly.scholarly.Publication object at 0x0000024C545DB780>,\n",
      "                  <scholarly.scholarly.Publication object at 0x0000024C545DB7B8>,\n",
      "                  <scholarly.scholarly.Publication object at 0x0000024C545DB7F0>,\n",
      "                  <scholarly.scholarly.Publication object at 0x0000024C545DB828>,\n",
      "                  <scholarly.scholarly.Publication object at 0x0000024C545DB860>,\n",
      "                  <scholarly.scholarly.Publication object at 0x0000024C545DB898>,\n",
      "                  <scholarly.scholarly.Publication object at 0x0000024C545DB8D0>,\n",
      "                  <scholarly.scholarly.Publication object at 0x0000024C545DB908>,\n",
      "                  <scholarly.scholarly.Publication object at 0x0000024C545DB940>,\n",
      "                  <scholarly.scholarly.Publication object at 0x0000024C545DB978>,\n",
      "                  <scholarly.scholarly.Publication object at 0x0000024C545DB9B0>],\n",
      " 'url_picture': 'https://scholar.google.com/citations?view_op=medium_photo&user=wcx7qdYAAAAJ'}\n"
     ]
    }
   ],
   "source": [
    "search_query = scholarly.search_author('Alan Aguirre-Soto')\n",
    "author = next(search_query).fill()\n",
    "print(author)"
   ]
  },
  {
   "cell_type": "markdown",
   "metadata": {},
   "source": [
    "## Print the titles of the author's publications"
   ]
  },
  {
   "cell_type": "code",
   "execution_count": 29,
   "metadata": {},
   "outputs": [
    {
     "name": "stdout",
     "output_type": "stream",
     "text": [
      "['Rheological and chemical analysis of reverse gelation in a covalently cross-linked Diels− Alder polymer network', 'Spatial and temporal control of thiol-Michael addition via photocaged superbase in photopatterning and two-stage polymer networks formation', 'Visible-Light Organic Photocatalysis for Latent Radical-Initiated Polymerization via 2e–/1H+ Transfers: Initiation with Parallels to Photosynthesis', 'Uv-vis/ft-nir in situ monitoring of visible-light induced polymerization of pegda hydrogels initiated by eosin/triethanolamine/O 2', 'Coupled UV–Vis/FT–NIR spectroscopy for kinetic analysis of multiple reaction steps in polymerizations', 'Excitation of Metastable Intermediates in Organic Photoredox Catalysis: Z-Scheme Approach Decreases Catalyst Inactivation', 'A quantitative analysis of peroxy-mediated cyclic regeneration of eosin under oxygen-rich photopolymerization conditions', 'Photoinduced diffusion through polymer networks', 'On the role of N-vinylpyrrolidone in the aqueous radical-initiated copolymerization with PEGDA mediated by eosin Y in the presence of O 2', 'Simultaneous measurement of fluorescence, conversion and physical/mechanical properties for monitoring bulk and localized photopolymerization reactions in heterogeneous systems', 'Shining light on the coiled-flow inverter–Continuous-flow photochemistry in a static mixer', 'Thermo-Reversibility and Crack-Healing of A Cross-Linked Maleimide/furan Polymer', 'Latent free radical polymerization of bulk methacrylates: Organic visible-light photocatalysis and supramolecular effects', 'Comprehensive high-throughout analysis of polymer formation and final properties: Towards refined understanding of structure-kinetics-properties relationships', 'Organic visible-light photoredox catalysis for polymer synthesis: Advantages in polymerization efficiency and materials design', 'Supramolecular hydrogen bonding in monovinyl hydroxylated methacrylates leading to long-lived propagating radicals', 'Visible-light photoredox catalysis for novel photo-mediated polymer syntheses', 'Spatial and Temporal Control of Thiol-Michael Addition via Photo-caged Amine in Photopatterning and Two-stage Polymer Networks Formation', 'PMSE Alshakim Nelson, Matthew Becker, Christopher Stafford, Qinghuang Lin Wednesday, August 13, 2014']\n"
     ]
    }
   ],
   "source": [
    "print([pub.bib['title'] for pub in author.publications])"
   ]
  },
  {
   "cell_type": "markdown",
   "metadata": {},
   "source": [
    "## Take a closer look at the 29th publication"
   ]
  },
  {
   "cell_type": "code",
   "execution_count": 30,
   "metadata": {},
   "outputs": [
    {
     "name": "stdout",
     "output_type": "stream",
     "text": [
      "{'_filled': True,\n",
      " 'bib': {'eprint': 'https://www.ncbi.nlm.nih.gov/pmc/articles/PMC2921220/',\n",
      "         'title': 'Rheological and chemical analysis of reverse gelation in a '\n",
      "                  'covalently cross-linked Diels− Alder polymer network',\n",
      "         'url': 'https://pubs.acs.org/doi/abs/10.1021/ma801863d',\n",
      "         'year': 2008},\n",
      " 'citedby': 206,\n",
      " 'id_citations': 'wcx7qdYAAAAJ:u5HHmVD_uO8C',\n",
      " 'source': 'citations'}\n"
     ]
    }
   ],
   "source": [
    "pub = author.publications[0].fill()\n",
    "print(pub)"
   ]
  },
  {
   "cell_type": "markdown",
   "metadata": {},
   "source": [
    "## Which papers cited that publication?\n",
    "### <b><font color=red>[TODO:</font></b> fix get_citedby(), as it almost every time returns an empty array<b><font color=red>]</font></b>"
   ]
  },
  {
   "cell_type": "code",
   "execution_count": 31,
   "metadata": {},
   "outputs": [
    {
     "name": "stdout",
     "output_type": "stream",
     "text": [
      "[]\n"
     ]
    }
   ],
   "source": [
    "print([citation.bib['title'] for citation in pub.get_citedby()])"
   ]
  },
  {
   "cell_type": "markdown",
   "metadata": {},
   "source": [
    "## Can also retrieve an author's data from a related keyword"
   ]
  },
  {
   "cell_type": "code",
   "execution_count": 32,
   "metadata": {},
   "outputs": [
    {
     "name": "stdout",
     "output_type": "stream",
     "text": [
      "{'_filled': True,\n",
      " 'affiliation': 'Technical University of Liberec',\n",
      " 'citedby': 27590,\n",
      " 'citedby5y': 27540,\n",
      " 'cites_per_year': {2016: 27209, 2017: 48, 2018: 64, 2019: 155, 2020: 39},\n",
      " 'coauthors': [],\n",
      " 'email': '@tul.cz',\n",
      " 'hindex': 13,\n",
      " 'hindex5y': 13,\n",
      " 'i10index': 20,\n",
      " 'i10index5y': 19,\n",
      " 'id': 'Zlb7K5gAAAAJ',\n",
      " 'interests': ['Nanotechnology',\n",
      "               'electrospinning',\n",
      "               'filter',\n",
      "               'water treatment',\n",
      "               'membranes'],\n",
      " 'name': 'Assistant Prof. Fatma Yalcinkaya',\n",
      " 'publications': [<scholarly.scholarly.Publication object at 0x0000024C545BF358>,\n",
      "                  <scholarly.scholarly.Publication object at 0x0000024C545BF550>,\n",
      "                  <scholarly.scholarly.Publication object at 0x0000024C545BF208>,\n",
      "                  <scholarly.scholarly.Publication object at 0x0000024C545BF048>,\n",
      "                  <scholarly.scholarly.Publication object at 0x0000024C545BF080>,\n",
      "                  <scholarly.scholarly.Publication object at 0x0000024C545BF898>,\n",
      "                  <scholarly.scholarly.Publication object at 0x0000024C545BF198>,\n",
      "                  <scholarly.scholarly.Publication object at 0x0000024C545BF0B8>,\n",
      "                  <scholarly.scholarly.Publication object at 0x0000024C545BF128>,\n",
      "                  <scholarly.scholarly.Publication object at 0x0000024C545BF4A8>,\n",
      "                  <scholarly.scholarly.Publication object at 0x0000024C545BF160>,\n",
      "                  <scholarly.scholarly.Publication object at 0x0000024C545BF748>,\n",
      "                  <scholarly.scholarly.Publication object at 0x0000024C545BF6A0>,\n",
      "                  <scholarly.scholarly.Publication object at 0x0000024C545BF518>,\n",
      "                  <scholarly.scholarly.Publication object at 0x0000024C545BF710>,\n",
      "                  <scholarly.scholarly.Publication object at 0x0000024C545BF588>,\n",
      "                  <scholarly.scholarly.Publication object at 0x0000024C545BF6D8>,\n",
      "                  <scholarly.scholarly.Publication object at 0x0000024C545BF5F8>,\n",
      "                  <scholarly.scholarly.Publication object at 0x0000024C545BF780>,\n",
      "                  <scholarly.scholarly.Publication object at 0x0000024C545BF7F0>,\n",
      "                  <scholarly.scholarly.Publication object at 0x0000024C545BF7B8>,\n",
      "                  <scholarly.scholarly.Publication object at 0x0000024C545BF5C0>,\n",
      "                  <scholarly.scholarly.Publication object at 0x0000024C545BFA90>,\n",
      "                  <scholarly.scholarly.Publication object at 0x0000024C545DBA58>,\n",
      "                  <scholarly.scholarly.Publication object at 0x0000024C545DBA90>,\n",
      "                  <scholarly.scholarly.Publication object at 0x0000024C545DBB38>,\n",
      "                  <scholarly.scholarly.Publication object at 0x0000024C545DBAC8>,\n",
      "                  <scholarly.scholarly.Publication object at 0x0000024C540C7358>,\n",
      "                  <scholarly.scholarly.Publication object at 0x0000024C540C7518>,\n",
      "                  <scholarly.scholarly.Publication object at 0x0000024C540C7550>,\n",
      "                  <scholarly.scholarly.Publication object at 0x0000024C540C7588>,\n",
      "                  <scholarly.scholarly.Publication object at 0x0000024C540C75C0>,\n",
      "                  <scholarly.scholarly.Publication object at 0x0000024C540C75F8>,\n",
      "                  <scholarly.scholarly.Publication object at 0x0000024C540C7630>,\n",
      "                  <scholarly.scholarly.Publication object at 0x0000024C540C7668>,\n",
      "                  <scholarly.scholarly.Publication object at 0x0000024C540C76A0>,\n",
      "                  <scholarly.scholarly.Publication object at 0x0000024C540C76D8>,\n",
      "                  <scholarly.scholarly.Publication object at 0x0000024C540C7710>,\n",
      "                  <scholarly.scholarly.Publication object at 0x0000024C540C7748>,\n",
      "                  <scholarly.scholarly.Publication object at 0x0000024C540C7780>,\n",
      "                  <scholarly.scholarly.Publication object at 0x0000024C540C77B8>,\n",
      "                  <scholarly.scholarly.Publication object at 0x0000024C540C77F0>,\n",
      "                  <scholarly.scholarly.Publication object at 0x0000024C540C7828>,\n",
      "                  <scholarly.scholarly.Publication object at 0x0000024C540C7860>,\n",
      "                  <scholarly.scholarly.Publication object at 0x0000024C540C7898>,\n",
      "                  <scholarly.scholarly.Publication object at 0x0000024C540C78D0>,\n",
      "                  <scholarly.scholarly.Publication object at 0x0000024C540C7908>,\n",
      "                  <scholarly.scholarly.Publication object at 0x0000024C540C7940>,\n",
      "                  <scholarly.scholarly.Publication object at 0x0000024C540C7978>,\n",
      "                  <scholarly.scholarly.Publication object at 0x0000024C540C79B0>,\n",
      "                  <scholarly.scholarly.Publication object at 0x0000024C540C79E8>,\n",
      "                  <scholarly.scholarly.Publication object at 0x0000024C540C7A20>,\n",
      "                  <scholarly.scholarly.Publication object at 0x0000024C540C7A58>,\n",
      "                  <scholarly.scholarly.Publication object at 0x0000024C540C7A90>,\n",
      "                  <scholarly.scholarly.Publication object at 0x0000024C540C7AC8>,\n",
      "                  <scholarly.scholarly.Publication object at 0x0000024C540C7B00>,\n",
      "                  <scholarly.scholarly.Publication object at 0x0000024C540C7B38>,\n",
      "                  <scholarly.scholarly.Publication object at 0x0000024C540C7B70>,\n",
      "                  <scholarly.scholarly.Publication object at 0x0000024C540C7BA8>,\n",
      "                  <scholarly.scholarly.Publication object at 0x0000024C540C7BE0>,\n",
      "                  <scholarly.scholarly.Publication object at 0x0000024C540C7C18>,\n",
      "                  <scholarly.scholarly.Publication object at 0x0000024C540C7C50>,\n",
      "                  <scholarly.scholarly.Publication object at 0x0000024C540C7C88>,\n",
      "                  <scholarly.scholarly.Publication object at 0x0000024C540C7CC0>,\n",
      "                  <scholarly.scholarly.Publication object at 0x0000024C540C7CF8>,\n",
      "                  <scholarly.scholarly.Publication object at 0x0000024C540C7D30>,\n",
      "                  <scholarly.scholarly.Publication object at 0x0000024C540C7D68>,\n",
      "                  <scholarly.scholarly.Publication object at 0x0000024C540C7DA0>,\n",
      "                  <scholarly.scholarly.Publication object at 0x0000024C540C7DD8>,\n",
      "                  <scholarly.scholarly.Publication object at 0x0000024C540C7E10>,\n",
      "                  <scholarly.scholarly.Publication object at 0x0000024C540C7E48>,\n",
      "                  <scholarly.scholarly.Publication object at 0x0000024C540C7E80>,\n",
      "                  <scholarly.scholarly.Publication object at 0x0000024C540C7EB8>,\n",
      "                  <scholarly.scholarly.Publication object at 0x0000024C540C7EF0>,\n",
      "                  <scholarly.scholarly.Publication object at 0x0000024C540C7F28>],\n",
      " 'url_picture': 'https://scholar.google.com/citations?view_op=medium_photo&user=Zlb7K5gAAAAJ'}\n"
     ]
    }
   ],
   "source": [
    "search_query = scholarly.search_keyword('Electrospinning')\n",
    "query = next(search_query).fill()\n",
    "print(query)"
   ]
  },
  {
   "cell_type": "markdown",
   "metadata": {},
   "source": [
    "## scholarly also implements other ways to fetch data\n",
    "\n",
    "```python\n",
    "def search_pubs_query(query):\n",
    "    \"\"\"Search by scholar query and return a generator of Publication objects\"\"\"\n",
    "    url = _PUBSEARCH.format(requests.utils.quote(query))\n",
    "    soup = _get_soup(_HOST+url)\n",
    "    return _search_scholar_soup(soup)\n",
    "\n",
    "\n",
    "def search_author(name):\n",
    "    \"\"\"Search by author name and return a generator of Author objects\"\"\"\n",
    "    url = _AUTHSEARCH.format(requests.utils.quote(name))\n",
    "    soup = _get_soup(_HOST+url)\n",
    "    return _search_citation_soup(soup)\n",
    "\n",
    "\n",
    "def search_keyword(keyword):\n",
    "    \"\"\"Search by keyword and return a generator of Author objects\"\"\"\n",
    "    url = _KEYWORDSEARCH.format(requests.utils.quote(keyword))\n",
    "    soup = _get_soup(_HOST+url)\n",
    "    return _search_citation_soup(soup)\n",
    "\n",
    "\n",
    "def search_pubs_custom_url(url):\n",
    "    \"\"\"Search by custom URL and return a generator of Publication objects\n",
    "    URL should be of the form '/scholar?q=...'\"\"\"\n",
    "    soup = _get_soup(_HOST+url)\n",
    "    return _search_scholar_soup(soup)\n",
    "\n",
    "\n",
    "def search_author_custom_url(url):\n",
    "    \"\"\"Search by custom URL and return a generator of Publication objects\n",
    "    URL should be of the form '/citation?q=...'\"\"\"\n",
    "    soup = _get_soup(_HOST+url)\n",
    "    return _search_citation_soup(soup)\n",
    "```\n",
    "\n",
    "## scholarly seems to be the easiest way to move forward, but we would need to fix the get_citedby() function ..."
   ]
  },
  {
   "cell_type": "markdown",
   "metadata": {},
   "source": [
    "---\n",
    "# Option B: SerpApi's Scholar API\n",
    "### https://serpapi.com/google-scholar-api, https://pypi.org/project/google-search-results/"
   ]
  },
  {
   "cell_type": "code",
   "execution_count": 33,
   "metadata": {},
   "outputs": [],
   "source": [
    "from serpapi.google_search_results import GoogleSearchResults\n",
    "\n",
    "params = {\n",
    "    \"engine\": \"google_scholar\",\n",
    "    \"q\": \"electrospinning\",\n",
    "    \"hl\": \"en\",\n",
    "    \"api_key\": \"secret_api_key\"\n",
    "}\n",
    "\n",
    "client = GoogleSearchResults(params)\n",
    "results = client.get_dict()"
   ]
  },
  {
   "cell_type": "code",
   "execution_count": 34,
   "metadata": {},
   "outputs": [
    {
     "name": "stdout",
     "output_type": "stream",
     "text": [
      "{'error': \"We couldn't find your API key.\"}\n"
     ]
    }
   ],
   "source": [
    "print(results)"
   ]
  },
  {
   "cell_type": "markdown",
   "metadata": {},
   "source": [
    "## SerpApi seems to have more functionality, but requires an API key (and may require a subscription $) "
   ]
  },
  {
   "cell_type": "code",
   "execution_count": null,
   "metadata": {},
   "outputs": [],
   "source": []
  }
 ],
 "metadata": {
  "kernelspec": {
   "display_name": "Python 3",
   "language": "python",
   "name": "python3"
  },
  "language_info": {
   "codemirror_mode": {
    "name": "ipython",
    "version": 3
   },
   "file_extension": ".py",
   "mimetype": "text/x-python",
   "name": "python",
   "nbconvert_exporter": "python",
   "pygments_lexer": "ipython3",
   "version": "3.7.3"
  }
 },
 "nbformat": 4,
 "nbformat_minor": 4
}
