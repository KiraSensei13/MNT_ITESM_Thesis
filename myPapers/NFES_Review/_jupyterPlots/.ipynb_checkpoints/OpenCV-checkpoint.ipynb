{
 "cells": [
  {
   "cell_type": "code",
   "execution_count": null,
   "metadata": {},
   "outputs": [],
   "source": [
    "########################################################################\n",
    "\n",
    "# import the necessary packages\n",
    "import cv2\n",
    "import numpy as np\n",
    "import argparse\n",
    "import imutils\n",
    "import cv2\n",
    "import matplotlib.pyplot as plt\n",
    "# import torch\n",
    "# import torchvision.transforms as T\n",
    "\n",
    "from IPython.display import display, Image\n",
    "from easydict import EasyDict\n",
    "from scipy.spatial import distance as dist\n",
    "from imutils import perspective\n",
    "from imutils import contours\n",
    "# from torchvision import models\n",
    "# fcn  = models.segmentation.fcn_resnet101(pretrained=True, progress=True, num_classes=21, aux_loss=None).eval()\n",
    "# dlab = models.segmentation.deeplabv3_resnet101(pretrained=True, progress=True, num_classes=21, aux_loss=None).eval()\n",
    "# from PIL import Image as PILImage\n",
    " \n",
    "## construct the argument parse and parse the arguments\n",
    "#ap = argparse.ArgumentParser()\n",
    "#ap.add_argument(\"-i\", \"--image\", required=False, help=\"path to the input image\")\n",
    "#ap.add_argument(\"-w\", \"--width\", type=float, required=False, help=\"width of the left-most object in the image (in inches)\")\n",
    "## Do args = vars(ap.parse_args() in Jupyter\n",
    "#args = EasyDict({\n",
    "#    \"image\": 10,\n",
    "#    \"width\": 10\n",
    "#})\n",
    "\n",
    "# https://www.pyimagesearch.com/2016/03/28/measuring-size-of-objects-in-an-image-with-opencv/\n",
    "\n",
    "########################################################################"
   ]
  },
  {
   "cell_type": "code",
   "execution_count": null,
   "metadata": {},
   "outputs": [],
   "source": [
    "### DECLARE GENERAL FUNCTIONS\n",
    "def midpoint(ptA, ptB):\n",
    "    return ((ptA[0] + ptB[0]) * 0.5, (ptA[1] + ptB[1]) * 0.5)\n",
    "\n",
    "def order_points(pts):\n",
    "    # sort the points based on their x-coordinates\n",
    "    xSorted = pts[np.argsort(pts[:, 0]), :]\n",
    "    \n",
    "    # grab the left-most and right-most points from the sorted\n",
    "    # x-roodinate points\n",
    "    leftMost = xSorted[:2, :]\n",
    "    rightMost = xSorted[2:, :]\n",
    "    \n",
    "    # now, sort the left-most coordinates according to their\n",
    "    # y-coordinates so we can grab the top-left and bottom-left\n",
    "    # points, respectively\n",
    "    leftMost = leftMost[np.argsort(leftMost[:, 1]), :]\n",
    "    (tl, bl) = leftMost\n",
    "    \n",
    "    # now that we have the top-left coordinate, use it as an\n",
    "    # anchor to calculate the Euclidean distance between the\n",
    "    # top-left and right-most points; by the Pythagorean\n",
    "    # theorem, the point with the largest distance will be\n",
    "    # our bottom-right point\n",
    "    D = dist.cdist(tl[np.newaxis], rightMost, \"euclidean\")[0]\n",
    "    (br, tr) = rightMost[np.argsort(D)[::-1], :]\n",
    "    \n",
    "    # return the coordinates in top-left, top-right,\n",
    "    # bottom-right, and bottom-left order\n",
    "    return np.array([tl, tr, br, bl], dtype=\"float32\")"
   ]
  },
  {
   "cell_type": "code",
   "execution_count": null,
   "metadata": {},
   "outputs": [],
   "source": [
    "def measureImg(orimgname_, imgname_, refIsXval, refImg, refVal, edgeType, minObjArea, invertPimg, Threshold=128, denoise=0):\n",
    "    ''' <required> imgname_ : 'path + image file name' as a string of the image to analyze\n",
    "    \n",
    "        <required> fineTuning : parameter used to adjust the \"pixels per metric\", the purpose is to\n",
    "                                tune this value to match the dimensions of the refetence object\n",
    "        \n",
    "        <required> edgeType : can be 'edged', 'dilated', or 'eroded' as a string\n",
    "                              'edged'   : performs the Canny edge detection algorithm\n",
    "                              'dilated' : performs 'edged' and increases the object area to accentuate\n",
    "                                          features\n",
    "                              'eroded'  : performs 'dilated' and erodes away the boundaries of\n",
    "                                          foreground object to diminish the features of an image\n",
    "        \n",
    "        <required> minObjArea : defines the minimum object size to be analyzed, ignore the object if\n",
    "                                the contour is not sufficiently large\n",
    "        \n",
    "        <required> invertPimg : Boolean\n",
    "                                True  : implements a binary version of the original image before the\n",
    "                                        detection algorithm\n",
    "                                False : implements a grey-scale version of the original image before\n",
    "                                        the detection algorithm\n",
    "        \n",
    "        <optional> cannyThreshold=[50, 100] : only useful if invertPimg=False [minVal, maxVal]\n",
    "                                              any edges with intensity gradient more than maxVal are\n",
    "                                              sure to be edges and those below minVal are sure to be\n",
    "                                              non-edges, so discarded.\n",
    "        \n",
    "        <optional> binThresh=128 : only useful if invertPimg=True\n",
    "                                   defines a threshold when creating a binary image, 128 is the middle\n",
    "                                   of black and white in grey scale '''\n",
    "    \n",
    "    #TUNE fineTuning TO MATCH THE REFERENCE OBJECT\n",
    "\n",
    "    ### IMAGE PRE-PROCESSING\n",
    "    # load the image\n",
    "    orimg = cv2.imread(orimgname_)\n",
    "    img = cv2.imread(imgname_)\n",
    "    \n",
    "    # Image Denoising\n",
    "    dst = cv2.fastNlMeansDenoisingColored(\n",
    "        src=img,\n",
    "        dst=None,\n",
    "        h=denoise,\n",
    "        hColor=denoise,\n",
    "        templateWindowSize=7,\n",
    "        searchWindowSize=21)\n",
    "\n",
    "    # Convert to grayscale\n",
    "    grey = cv2.cvtColor(dst, cv2.COLOR_BGR2GRAY)\n",
    "\n",
    "    # define a threshold, 128 is the middle of black and white in grey scale\n",
    "    thresh = Threshold #256/2\n",
    "\n",
    "    # assign blue channel to zeros\n",
    "    binary = cv2.threshold(grey, thresh, 256, cv2.THRESH_BINARY)[1]\n",
    "\n",
    "#     # Inverting the colors\n",
    "#     invert = abs(255 - binary)\n",
    "    \n",
    "    ### IMAGE PROCESSING\n",
    "    # perform edge detection, then perform a dilation + erosion to\n",
    "    \n",
    "    # close gaps in between object edges\n",
    "    if invertPimg:\n",
    "        edged = cv2.Canny(binary, Threshold, Threshold)\n",
    "    else:\n",
    "        edged = cv2.Canny(grey, Threshold, Threshold)\n",
    "\n",
    "    dilated = cv2.dilate(edged, None, iterations=1)\n",
    "    eroded = cv2.erode(dilated, None, iterations=1)\n",
    "\n",
    "    if edgeType == \"dilated\":\n",
    "        Pimg = dilated\n",
    "    elif edgeType == \"eroded\":\n",
    "        Pimg = eroded\n",
    "    else:\n",
    "        Pimg = edged\n",
    "    \n",
    "    # Show and save image\n",
    "    print()\n",
    "    print('Image to Process:')\n",
    "    imgname='./img_out.png'\n",
    "    cv2.imwrite(imgname,Pimg)\n",
    "    display(Image(filename=imgname))\n",
    "    \n",
    "    ### GET IMAGE MEASUREMENTS\n",
    "    # find contours in the edge map\n",
    "    cnts = cv2.findContours(Pimg.copy(), cv2.RETR_EXTERNAL, cv2.CHAIN_APPROX_SIMPLE)\n",
    "    cnts = imutils.grab_contours(cnts)\n",
    "\n",
    "    # sort the contours from left-to-right and initialize the\n",
    "    # 'pixels per metric' calibration variable\n",
    "    (cnts, _) = contours.sort_contours(cnts)\n",
    "    \n",
    "    # if the pixels per metric has not been initialized, then\n",
    "    # compute it as the ratio of pixels to supplied metric\n",
    "    # (in this case, inches) to match the reference object\n",
    "    pixelsPerMetric = None\n",
    "    i = 0\n",
    "    for c in reversed(cnts):\n",
    "        if cv2.contourArea(c) < minObjArea:\n",
    "            continue\n",
    "            \n",
    "        if i == refImg and pixelsPerMetric is None:\n",
    "            box = cv2.minAreaRect(c)\n",
    "            box = cv2.cv.BoxPoints(box) if imutils.is_cv2() else cv2.boxPoints(box)\n",
    "            box = np.array(box, dtype=\"int\")\n",
    "            box = perspective.order_points(box)\n",
    "            (tl, tr, br, bl) = box\n",
    "            (tltrX, tltrY) = midpoint(tl, tr)\n",
    "            (blbrX, blbrY) = midpoint(bl, br)\n",
    "            (tlblX, tlblY) = midpoint(tl, bl)\n",
    "            (trbrX, trbrY) = midpoint(tr, br)\n",
    "            dA = dist.euclidean((tltrX, tltrY), (blbrX, blbrY))\n",
    "            dB = dist.euclidean((tlblX, tlblY), (trbrX, trbrY))\n",
    "            if refIsXval:\n",
    "                pixelsPerMetric = dB*(25400000/refVal)\n",
    "            else:\n",
    "                pixelsPerMetric = dA*(25400000/refVal)\n",
    "        i += 1\n",
    "        #print(pixelsPerMetric)\n",
    "\n",
    "    # loop over the contours individually\n",
    "    i = 0\n",
    "    for c in reversed(cnts):\n",
    "        # if the contour is not sufficiently large, ignore it\n",
    "        if cv2.contourArea(c) < minObjArea:\n",
    "            continue\n",
    "\n",
    "        # compute the rotated bounding box of the contour\n",
    "        orig = orimg.copy()\n",
    "        box = cv2.minAreaRect(c)        \n",
    "        box = cv2.cv.BoxPoints(box) if imutils.is_cv2() else cv2.boxPoints(box)\n",
    "        box = np.array(box, dtype=\"int\")\n",
    "\n",
    "        # order the points in the contour such that they appear\n",
    "        # in top-left, top-right, bottom-right, and bottom-left\n",
    "        # order, then draw the outline of the rotated bounding\n",
    "        # box\n",
    "        box = perspective.order_points(box)\n",
    "        cv2.drawContours(orig, [box.astype(\"int\")], -1, (0, 255, 0), 1)\n",
    "\n",
    "        # loop over the original points and draw them\n",
    "        for (x, y) in box:\n",
    "            cv2.circle(orig, (int(x), int(y)), 2, (0, 0, 255), -1)\n",
    "\n",
    "        # unpack the ordered bounding box, then compute the midpoint\n",
    "        # between the top-left and top-right coordinates, followed by\n",
    "        # the midpoint between bottom-left and bottom-right coordinates\n",
    "        (tl, tr, br, bl) = box\n",
    "#         print(box, '\\n', order_points(box))\n",
    "#         (tl, tr, br, bl) = order_points(box)\n",
    "        (tltrX, tltrY) = midpoint(tl, tr)\n",
    "        (blbrX, blbrY) = midpoint(bl, br)\n",
    "\n",
    "        # compute the midpoint between the top-left and top-right points,\n",
    "        # followed by the midpoint between the top-righ and bottom-right\n",
    "        (tlblX, tlblY) = midpoint(tl, bl)\n",
    "        (trbrX, trbrY) = midpoint(tr, br)\n",
    "\n",
    "        # draw the midpoints on the image\n",
    "        cv2.circle(orig, (int(tltrX), int(tltrY)), 2, (255, 0, 0), -1)\n",
    "        cv2.circle(orig, (int(blbrX), int(blbrY)), 2, (255, 0, 0), -1)\n",
    "        cv2.circle(orig, (int(tlblX), int(tlblY)), 2, (255, 0, 0), -1)\n",
    "        cv2.circle(orig, (int(trbrX), int(trbrY)), 2, (255, 0, 0), -1)\n",
    "\n",
    "        # draw lines between the midpoints\n",
    "        cv2.line(orig, (int(tltrX), int(tltrY)), (int(blbrX), int(blbrY)), (255, 0, 255), 1)\n",
    "        cv2.line(orig, (int(tlblX), int(tlblY)), (int(trbrX), int(trbrY)), (255, 0, 255), 1)\n",
    "\n",
    "        # compute the Euclidean distance between the midpoints\n",
    "        dA = dist.euclidean((tltrX, tltrY), (blbrX, blbrY))\n",
    "        dB = dist.euclidean((tlblX, tlblY), (trbrX, trbrY))\n",
    "            \n",
    "        # compute the size of the object\n",
    "        dimA = dA / pixelsPerMetric\n",
    "        dimB = dB / pixelsPerMetric\n",
    "\n",
    "        # convert inches to nm\n",
    "        dimA = dimA*25400000\n",
    "        dimB = dimB*25400000\n",
    "        \n",
    "        # draw the object sizes on the image\n",
    "        txtcolor=(255, 171, 0)\n",
    "        cv2.putText(orig, \"{:.2f}nm\".format(dimB),\n",
    "                    (int(tltrX - 15), int(tltrY - 10)), cv2.FONT_HERSHEY_SIMPLEX,\n",
    "                    0.6, txtcolor, 2, 5)\n",
    "        cv2.putText(orig, \"{:.2f}nm\".format(dimA),\n",
    "                    (int(trbrX + 10), int(trbrY)), cv2.FONT_HERSHEY_SIMPLEX,\n",
    "                    0.6, txtcolor, 2)\n",
    "\n",
    "        # Show and save output image\n",
    "        print()\n",
    "        print('Measurements in progress ... ' + str(i))\n",
    "        print('dimX=' + str(round(dimB,2)) + 'nm;  dimY=' + str(round(dimA,2)) + 'nm;')\n",
    "        imgname='./img_out.png'\n",
    "        cv2.imwrite(imgname,orig)\n",
    "        display(Image(filename=imgname))\n",
    "        i += 1"
   ]
  },
  {
   "cell_type": "code",
   "execution_count": null,
   "metadata": {},
   "outputs": [],
   "source": [
    "help(measureImg);\n",
    "display(Image(filename='./img/UScoinRef.png'));\n",
    "measureImg(\n",
    "    './img/example_01.png',\n",
    "    './img/example_01.png',\n",
    "    True, 5, 24260000,\n",
    "    'eroded',\n",
    "    100,\n",
    "    False,\n",
    "    Threshold=150,\n",
    "    denoise=15);"
   ]
  },
  {
   "cell_type": "markdown",
   "metadata": {},
   "source": [
    "---"
   ]
  },
  {
   "cell_type": "code",
   "execution_count": null,
   "metadata": {},
   "outputs": [],
   "source": [
    "# horizontal fibers\n",
    "measureImg('./img/Camillo2013_00_orig.png',\n",
    "           './img/Camillo2013_00_orig.png',\n",
    "           True, 4, 100000,\n",
    "           'eroded',\n",
    "           50,\n",
    "           True,\n",
    "           Threshold=160,\n",
    "           denoise=0);"
   ]
  },
  {
   "cell_type": "code",
   "execution_count": null,
   "metadata": {},
   "outputs": [],
   "source": [
    "# vertical fibers\n",
    "measureImg('./img/Camillo2013_00_orig.png',\n",
    "           './img/Camillo2013_00_orig.png',\n",
    "           True, 2, 100000,\n",
    "           'eroded',\n",
    "           100,\n",
    "           False,\n",
    "           Threshold=265,\n",
    "           denoise=10);"
   ]
  },
  {
   "cell_type": "code",
   "execution_count": null,
   "metadata": {},
   "outputs": [],
   "source": [
    "# distance in between\n",
    "measureImg('./img/Camillo2013_00_orig.png',\n",
    "           './img/Camillo2013_00_orig.png',\n",
    "           True, 2, 100000,\n",
    "           'eroded',\n",
    "           100,\n",
    "           True,\n",
    "           Threshold=165,\n",
    "           denoise=0);"
   ]
  },
  {
   "cell_type": "code",
   "execution_count": null,
   "metadata": {},
   "outputs": [],
   "source": [
    "measureImg('./img/Camillo2013_01_orig.png',\n",
    "           './img/Camillo2013_01.png',\n",
    "           True, 4, 200,\n",
    "           'eroded',\n",
    "           500,\n",
    "           True, #T=binary;F=greyscale;\n",
    "           Threshold=45,\n",
    "           denoise=20);"
   ]
  },
  {
   "cell_type": "code",
   "execution_count": null,
   "metadata": {},
   "outputs": [],
   "source": [
    "measureImg('./img/Camillo2013_02_orig.png',\n",
    "           './img/Camillo2013_02.png',\n",
    "           True, 1, 500,\n",
    "           'eroded',\n",
    "           300,\n",
    "           True, #T=binary;F=greyscale;\n",
    "           Threshold=50,\n",
    "           denoise=10);"
   ]
  },
  {
   "cell_type": "markdown",
   "metadata": {},
   "source": [
    "---"
   ]
  },
  {
   "cell_type": "code",
   "execution_count": null,
   "metadata": {},
   "outputs": [],
   "source": [
    "# DOES NOT MATCH w/reported value range of 1.5 to 3 um\n",
    "# measureImg('./img/Duan2017_00_orig.png',\n",
    "#            './img/Duan2017_00.png',\n",
    "#            True, 6, 500000, #0.00666,\n",
    "#            'eroded',\n",
    "#            50,\n",
    "#            False, #T=binary;F=greyscale;\n",
    "#            Threshold=155,\n",
    "#            denoise=0);"
   ]
  },
  {
   "cell_type": "code",
   "execution_count": null,
   "metadata": {},
   "outputs": [],
   "source": [
    "# DOES NOT MATCH w/reported value range of 1.5 to 3 um\n",
    "# measureImg('./img/Duan2017_01_orig.png',\n",
    "#            './img/Duan2017_01.png',\n",
    "#            True, 2, 1000, #0.00666,\n",
    "#            'canny',\n",
    "#            100,\n",
    "#            False, #T=binary;F=greyscale;\n",
    "#            Threshold=200,\n",
    "#            denoise=0);"
   ]
  },
  {
   "cell_type": "code",
   "execution_count": null,
   "metadata": {},
   "outputs": [],
   "source": [
    "# DOES NOT MATCH w/reported value range of 1.5 to 3 um\n",
    "# measureImg('./img/Duan2017_02_orig.png',\n",
    "#            './img/Duan2017_02.png',\n",
    "#            True, 1, 200000, #0.00666,\n",
    "#            'canny',\n",
    "#            50,\n",
    "#            False, #T=binary;F=greyscale;\n",
    "#            Threshold=100,\n",
    "#            denoise=0);"
   ]
  },
  {
   "cell_type": "markdown",
   "metadata": {},
   "source": [
    "---"
   ]
  },
  {
   "cell_type": "code",
   "execution_count": null,
   "metadata": {},
   "outputs": [],
   "source": [
    "measureImg('./img/Gupta2007_00_orig.png',\n",
    "           './img/Gupta2007_00_dis.png',\n",
    "           True, 1, 100000, #0.00666,\n",
    "           'eroded',\n",
    "           50,\n",
    "           False, #T=binary;F=greyscale;\n",
    "           Threshold=125,\n",
    "           denoise=20);"
   ]
  },
  {
   "cell_type": "code",
   "execution_count": null,
   "metadata": {},
   "outputs": [],
   "source": [
    "measureImg('./img/Gupta2007_00_orig.png',\n",
    "           './img/Gupta2007_00.png',\n",
    "           True, 8, 100000, #0.00666,\n",
    "           'eroded',\n",
    "           50,\n",
    "           False, #T=binary;F=greyscale;\n",
    "           Threshold=45,\n",
    "           denoise=10);"
   ]
  },
  {
   "cell_type": "code",
   "execution_count": null,
   "metadata": {},
   "outputs": [],
   "source": [
    "measureImg('./img/Gupta2007_01_orig.png',\n",
    "           './img/Gupta2007_01_dis.png',\n",
    "           True, 3, 100000, #0.00666,\n",
    "           'canny',\n",
    "           100,\n",
    "           True, #T=binary;F=greyscale;\n",
    "           Threshold=140,\n",
    "           denoise=20);"
   ]
  },
  {
   "cell_type": "code",
   "execution_count": null,
   "metadata": {},
   "outputs": [],
   "source": [
    "measureImg('./img/Gupta2007_01_orig.png',\n",
    "           './img/Gupta2007_01.png',\n",
    "           True, 6, 100000, #0.00666,\n",
    "           'eroded',\n",
    "           150,\n",
    "           False, #T=binary;F=greyscale;\n",
    "           Threshold=145,\n",
    "           denoise=10);"
   ]
  },
  {
   "cell_type": "markdown",
   "metadata": {},
   "source": [
    "---"
   ]
  },
  {
   "cell_type": "code",
   "execution_count": null,
   "metadata": {},
   "outputs": [],
   "source": [
    "measureImg('./img/Jiang2018_00_orig.png',\n",
    "           './img/Jiang2018_00.png',\n",
    "           True, 6, 500000, #0.00666,\n",
    "           'eroded',\n",
    "           50,\n",
    "           False, #T=binary;F=greyscale;\n",
    "           Threshold=140,\n",
    "           denoise=0);"
   ]
  },
  {
   "cell_type": "code",
   "execution_count": null,
   "metadata": {},
   "outputs": [],
   "source": [
    "measureImg('./img/Jiang2018_00_orig.png',\n",
    "           './img/Jiang2018_00_dis.png',\n",
    "           True, 0, 500000, #0.00666,\n",
    "           'eroded',\n",
    "           50,\n",
    "           True, #T=binary;F=greyscale;\n",
    "           Threshold=192,\n",
    "           denoise=0);"
   ]
  },
  {
   "cell_type": "code",
   "execution_count": null,
   "metadata": {},
   "outputs": [],
   "source": [
    "measureImg('./img/Jiang2018_01_orig.png',\n",
    "           './img/Jiang2018_01_dis.png',\n",
    "           True, 9, 500000, #0.00666,\n",
    "           'canny',\n",
    "           50,\n",
    "           True, #T=binary;F=greyscale;\n",
    "           Threshold=170,\n",
    "           denoise=1);"
   ]
  },
  {
   "cell_type": "markdown",
   "metadata": {},
   "source": [
    "---"
   ]
  },
  {
   "cell_type": "code",
   "execution_count": null,
   "metadata": {},
   "outputs": [],
   "source": [
    "measureImg('./img/Min2013_00_orig.png',\n",
    "           './img/Min2013_00.png',\n",
    "           True, 1, 100, #0.00666,\n",
    "           'eroded',\n",
    "           500,\n",
    "           True, #T=binary;F=greyscale;\n",
    "           Threshold=85,\n",
    "           denoise=5);"
   ]
  },
  {
   "cell_type": "code",
   "execution_count": null,
   "metadata": {},
   "outputs": [],
   "source": [
    "measureImg('./img/Min2013_01_orig.png',\n",
    "           './img/Min2013_01.png',\n",
    "           True, 1, 500, #0.00666,\n",
    "           'eroded',\n",
    "           500,\n",
    "           False, #T=binary;F=greyscale;\n",
    "           Threshold=20,\n",
    "           denoise=10);"
   ]
  },
  {
   "cell_type": "code",
   "execution_count": null,
   "metadata": {},
   "outputs": [],
   "source": [
    "measureImg('./img/Min2013_02_orig.png',\n",
    "           './img/Min2013_02.png',\n",
    "           True, 1, 500, #0.00666,\n",
    "           'eroded',\n",
    "           500,\n",
    "           False, #T=binary;F=greyscale;\n",
    "           Threshold=90,\n",
    "           denoise=10);"
   ]
  },
  {
   "cell_type": "code",
   "execution_count": null,
   "metadata": {},
   "outputs": [],
   "source": [
    "measureImg('./img/Min2013_03_orig.png',\n",
    "           './img/Min2013_03.png',\n",
    "           True, 1, 500, #0.00666,\n",
    "           'eroded',\n",
    "           500,\n",
    "           False, #T=binary;F=greyscale;\n",
    "           Threshold=60,\n",
    "           denoise=10);"
   ]
  },
  {
   "cell_type": "markdown",
   "metadata": {},
   "source": [
    "---"
   ]
  },
  {
   "cell_type": "code",
   "execution_count": null,
   "metadata": {},
   "outputs": [],
   "source": [
    "measureImg('./img/Sun2006a_00_orig.png',\n",
    "           './img/Sun2006a_00.png',\n",
    "           True, 2, 500, #0.00666,\n",
    "           'canny',\n",
    "           250,\n",
    "           False, #T=binary;F=greyscale;\n",
    "           Threshold=20,\n",
    "           denoise=25);"
   ]
  },
  {
   "cell_type": "code",
   "execution_count": null,
   "metadata": {},
   "outputs": [],
   "source": [
    "measureImg('./img/Sun2006a_01_orig.png',\n",
    "           './img/Sun2006a_01.png',\n",
    "           True, 1, 100000, #0.00666,\n",
    "           'canny',\n",
    "           250,\n",
    "           False, #T=binary;F=greyscale;\n",
    "           Threshold=40,\n",
    "           denoise=15);"
   ]
  },
  {
   "cell_type": "markdown",
   "metadata": {},
   "source": [
    "---"
   ]
  },
  {
   "cell_type": "code",
   "execution_count": null,
   "metadata": {},
   "outputs": [],
   "source": [
    "measureImg('./img/Wang2015_00_orig.png',\n",
    "           './img/Wang2015_00.png',\n",
    "           True, 5, 50000, #0.00666,\n",
    "           'eroded',\n",
    "           250,\n",
    "           True, #T=binary;F=greyscale;\n",
    "           Threshold=120,\n",
    "           denoise=0);"
   ]
  },
  {
   "cell_type": "markdown",
   "metadata": {},
   "source": [
    "---"
   ]
  },
  {
   "cell_type": "code",
   "execution_count": null,
   "metadata": {},
   "outputs": [],
   "source": [
    "measureImg('./img/Xu2014_00_orig.png',\n",
    "           './img/Xu2014_00.png',\n",
    "           True, 5, 1000, #0.00666,\n",
    "           'eroded',\n",
    "           250,\n",
    "           True, #T=binary;F=greyscale;\n",
    "           Threshold=40,\n",
    "           denoise=10);"
   ]
  },
  {
   "cell_type": "markdown",
   "metadata": {},
   "source": [
    "---"
   ]
  },
  {
   "cell_type": "code",
   "execution_count": null,
   "metadata": {},
   "outputs": [],
   "source": [
    "measureImg('./img/Xue2014_00_orig.png',\n",
    "           './img/Xue2014_00.png',\n",
    "           True, 4, 200000, #0.00666,\n",
    "           'canny',\n",
    "           250,\n",
    "           True, #T=binary;F=greyscale;\n",
    "           Threshold=95,\n",
    "           denoise=10);"
   ]
  },
  {
   "cell_type": "code",
   "execution_count": null,
   "metadata": {},
   "outputs": [],
   "source": [
    "measureImg('./img/Xue2014_01_orig.png',\n",
    "           './img/Xue2014_01.png',\n",
    "           True, 1, 2000, #0.00666,\n",
    "           'canny',\n",
    "           250,\n",
    "           False, #T=binary;F=greyscale;\n",
    "           Threshold=140,\n",
    "           denoise=15);"
   ]
  },
  {
   "cell_type": "markdown",
   "metadata": {},
   "source": [
    "---"
   ]
  },
  {
   "cell_type": "code",
   "execution_count": null,
   "metadata": {},
   "outputs": [],
   "source": [
    "measureImg('./img/Zheng2014_00_orig.png',\n",
    "           './img/Zheng2014_00.png',\n",
    "           True, 1, 500000,\n",
    "           'canny',\n",
    "           50,\n",
    "           False, #T=binary;F=greyscale;\n",
    "           Threshold=40,\n",
    "           denoise=5);"
   ]
  },
  {
   "cell_type": "code",
   "execution_count": null,
   "metadata": {},
   "outputs": [],
   "source": [
    "measureImg('./img/Zheng2014_01_orig.png',\n",
    "           './img/Zheng2014_01.png',\n",
    "           True, 2, 500000,\n",
    "           'canny',\n",
    "           50,\n",
    "           False, #T=binary;F=greyscale;\n",
    "           Threshold=50,\n",
    "           denoise=5);"
   ]
  },
  {
   "cell_type": "code",
   "execution_count": null,
   "metadata": {},
   "outputs": [],
   "source": [
    "measureImg('./img/Zheng2014_02_orig.png',\n",
    "           './img/Zheng2014_02.png',\n",
    "           True, 0, 500000,\n",
    "           'canny',\n",
    "           50,\n",
    "           False, #T=binary;F=greyscale;\n",
    "           Threshold=50,\n",
    "           denoise=5);"
   ]
  },
  {
   "cell_type": "markdown",
   "metadata": {},
   "source": [
    "---"
   ]
  },
  {
   "cell_type": "code",
   "execution_count": null,
   "metadata": {},
   "outputs": [],
   "source": [
    "measureImg('./img/Bu2012_00_orig.png',\n",
    "           './img/Bu2012_00.png',\n",
    "           True, 3, 100000,\n",
    "           'canny',\n",
    "           50,\n",
    "           True, #T=binary;F=greyscale;\n",
    "           Threshold=137,\n",
    "           denoise=7);"
   ]
  },
  {
   "cell_type": "code",
   "execution_count": null,
   "metadata": {},
   "outputs": [],
   "source": [
    "measureImg('./img/Bu2012_01_orig.png',\n",
    "           './img/Bu2012_01.png',\n",
    "           True, 6, 100000,\n",
    "           'canny',\n",
    "           50,\n",
    "           False, #T=binary;F=greyscale;\n",
    "           Threshold=26,\n",
    "           denoise=0);"
   ]
  },
  {
   "cell_type": "code",
   "execution_count": null,
   "metadata": {},
   "outputs": [],
   "source": [
    "measureImg('./img/Bu2012_02_orig.png',\n",
    "           './img/Bu2012_02.png',\n",
    "           True, 4, 2000,\n",
    "           'canny',\n",
    "           50,\n",
    "           True, #T=binary;F=greyscale;\n",
    "           Threshold=128,\n",
    "           denoise=5);"
   ]
  },
  {
   "cell_type": "code",
   "execution_count": null,
   "metadata": {},
   "outputs": [],
   "source": [
    "measureImg('./img/Bu2012_03_orig.png',\n",
    "           './img/Bu2012_03.png',\n",
    "           True, 3, 2000,\n",
    "           'eroded',\n",
    "           50,\n",
    "           True, #T=binary;F=greyscale;\n",
    "           Threshold=160,\n",
    "           denoise=5);"
   ]
  },
  {
   "cell_type": "markdown",
   "metadata": {},
   "source": [
    "---"
   ]
  },
  {
   "cell_type": "code",
   "execution_count": null,
   "metadata": {},
   "outputs": [],
   "source": [
    "measureImg('./img/F4a_Lei2015_orig.png',\n",
    "           './img/F4a_Lei2015_orig.png',\n",
    "           True, 1, 1000000,\n",
    "           'canny',\n",
    "           250,\n",
    "           True,\n",
    "           Threshold=150,\n",
    "           denoise=10);"
   ]
  },
  {
   "cell_type": "code",
   "execution_count": null,
   "metadata": {},
   "outputs": [],
   "source": [
    "measureImg('./img/F4a_Lei2015_orig.png',\n",
    "           './img/F4a_nc_Lei2015.png',\n",
    "           True, 4, 1000000,\n",
    "           'canny',\n",
    "           250,\n",
    "           False,\n",
    "           Threshold=150,\n",
    "           denoise=10);"
   ]
  },
  {
   "cell_type": "code",
   "execution_count": null,
   "metadata": {},
   "outputs": [],
   "source": [
    "measureImg('./img/F4b_nc_Lei2015_orig.png',\n",
    "           './img/F4b_nc_Lei2015.png',\n",
    "           True, 1, 1000000,\n",
    "           'canny',\n",
    "           150,\n",
    "           False,\n",
    "           Threshold=150,\n",
    "           denoise=10);"
   ]
  },
  {
   "cell_type": "markdown",
   "metadata": {},
   "source": [
    "---"
   ]
  },
  {
   "cell_type": "code",
   "execution_count": null,
   "metadata": {},
   "outputs": [],
   "source": [
    "measureImg('./img/Yousefi2020_00_orig.png',\n",
    "           './img/Yousefi2020_00.png',\n",
    "           True, 0, 10000,\n",
    "           'canny',\n",
    "           250,\n",
    "           True,\n",
    "           Threshold=230,\n",
    "           denoise=10);"
   ]
  },
  {
   "cell_type": "markdown",
   "metadata": {},
   "source": [
    "---"
   ]
  },
  {
   "cell_type": "code",
   "execution_count": null,
   "metadata": {},
   "outputs": [],
   "source": [
    "measureImg('./img/Zhou2011_00_orig.png',\n",
    "           './img/Zhou2011_00.png',\n",
    "           True, 2, 100000,\n",
    "           'canny',\n",
    "           50,\n",
    "           True,\n",
    "           Threshold=150,\n",
    "           denoise=10);"
   ]
  },
  {
   "cell_type": "code",
   "execution_count": null,
   "metadata": {},
   "outputs": [],
   "source": [
    "measureImg('./img/Zhou2011_01_orig.png',\n",
    "           './img/Zhou2011_01.png',\n",
    "           True, 2, 20000,\n",
    "           'canny',\n",
    "           50,\n",
    "           True,\n",
    "           Threshold=150,\n",
    "           denoise=10);"
   ]
  },
  {
   "cell_type": "code",
   "execution_count": null,
   "metadata": {},
   "outputs": [],
   "source": [
    "measureImg('./img/Zhou2011_02_orig.png',\n",
    "           './img/Zhou2011_02.png',\n",
    "           True, 3, 20000,\n",
    "           'canny',\n",
    "           50,\n",
    "           True,\n",
    "           Threshold=150,\n",
    "           denoise=10);"
   ]
  },
  {
   "cell_type": "code",
   "execution_count": null,
   "metadata": {},
   "outputs": [],
   "source": [
    "measureImg('./img/Zhou2011_03_orig.png',\n",
    "           './img/Zhou2011_03.png',\n",
    "           True, 3, 100000,\n",
    "           'canny',\n",
    "           50,\n",
    "           True,\n",
    "           Threshold=150,\n",
    "           denoise=10);"
   ]
  },
  {
   "cell_type": "code",
   "execution_count": null,
   "metadata": {},
   "outputs": [],
   "source": [
    "measureImg('./img/Zhou2011_04_orig.png',\n",
    "           './img/Zhou2011_04.png',\n",
    "           True, 2, 100000,\n",
    "           'canny',\n",
    "           50,\n",
    "           True,\n",
    "           Threshold=150,\n",
    "           denoise=10);"
   ]
  },
  {
   "cell_type": "code",
   "execution_count": null,
   "metadata": {},
   "outputs": [],
   "source": [
    "measureImg('./img/Zhou2011_05_orig.png',\n",
    "           './img/Zhou2011_05.png',\n",
    "           True, 3, 100000,\n",
    "           'canny',\n",
    "           50,\n",
    "           True,\n",
    "           Threshold=150,\n",
    "           denoise=10);"
   ]
  },
  {
   "cell_type": "code",
   "execution_count": null,
   "metadata": {},
   "outputs": [],
   "source": [
    "measureImg('./img/Zhou2011_06_orig.png',\n",
    "           './img/Zhou2011_06.png',\n",
    "           True, 3, 100000,\n",
    "           'canny',\n",
    "           50,\n",
    "           True,\n",
    "           Threshold=150,\n",
    "           denoise=10);"
   ]
  },
  {
   "cell_type": "code",
   "execution_count": null,
   "metadata": {},
   "outputs": [],
   "source": [
    "measureImg('./img/Zhou2011_07_orig.png',\n",
    "           './img/Zhou2011_07.png',\n",
    "           True, 1, 100000,\n",
    "           'canny',\n",
    "           50,\n",
    "           True,\n",
    "           Threshold=150,\n",
    "           denoise=10);"
   ]
  },
  {
   "cell_type": "code",
   "execution_count": null,
   "metadata": {},
   "outputs": [],
   "source": [
    "measureImg('./img/Zhou2011_08_orig.png',\n",
    "           './img/Zhou2011_08.png',\n",
    "           True, 3, 100000,\n",
    "           'canny',\n",
    "           50,\n",
    "           True,\n",
    "           Threshold=150,\n",
    "           denoise=10);"
   ]
  },
  {
   "cell_type": "code",
   "execution_count": null,
   "metadata": {},
   "outputs": [],
   "source": [
    "measureImg('./img/Zhou2011_09_orig.png',\n",
    "           './img/Zhou2011_09.png',\n",
    "           True, 3, 100000,\n",
    "           'canny',\n",
    "           50,\n",
    "           True,\n",
    "           Threshold=150,\n",
    "           denoise=10);"
   ]
  },
  {
   "cell_type": "code",
   "execution_count": null,
   "metadata": {},
   "outputs": [],
   "source": [
    "measureImg('./img/Zhou2011_10_orig.png',\n",
    "           './img/Zhou2011_10.png',\n",
    "           True, 4, 100000,\n",
    "           'canny',\n",
    "           50,\n",
    "           True,\n",
    "           Threshold=150,\n",
    "           denoise=10);"
   ]
  },
  {
   "cell_type": "markdown",
   "metadata": {},
   "source": [
    "---"
   ]
  },
  {
   "cell_type": "code",
   "execution_count": null,
   "metadata": {},
   "outputs": [],
   "source": []
  }
 ],
 "metadata": {
  "kernelspec": {
   "display_name": "Python 3",
   "language": "python",
   "name": "python3"
  },
  "language_info": {
   "codemirror_mode": {
    "name": "ipython",
    "version": 3
   },
   "file_extension": ".py",
   "mimetype": "text/x-python",
   "name": "python",
   "nbconvert_exporter": "python",
   "pygments_lexer": "ipython3",
   "version": "3.7.3"
  }
 },
 "nbformat": 4,
 "nbformat_minor": 4
}
