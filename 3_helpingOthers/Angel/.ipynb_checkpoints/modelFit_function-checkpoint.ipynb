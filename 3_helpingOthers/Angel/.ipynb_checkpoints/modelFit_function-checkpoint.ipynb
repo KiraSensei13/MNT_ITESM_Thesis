{
 "cells": [
  {
   "cell_type": "code",
   "execution_count": 1,
   "metadata": {},
   "outputs": [
    {
     "data": {
      "text/html": [
       "<div>\n",
       "<style scoped>\n",
       "    .dataframe tbody tr th:only-of-type {\n",
       "        vertical-align: middle;\n",
       "    }\n",
       "\n",
       "    .dataframe tbody tr th {\n",
       "        vertical-align: top;\n",
       "    }\n",
       "\n",
       "    .dataframe thead th {\n",
       "        text-align: right;\n",
       "    }\n",
       "</style>\n",
       "<table border=\"1\" class=\"dataframe\">\n",
       "  <thead>\n",
       "    <tr style=\"text-align: right;\">\n",
       "      <th></th>\n",
       "      <th>Meas. Pts.</th>\n",
       "      <th>Shear Rate [1/s]</th>\n",
       "      <th>Shear Stress [Pa]</th>\n",
       "      <th>Viscosity [Pa·s]</th>\n",
       "      <th>Speed [1/min]</th>\n",
       "      <th>Torque [µNm]</th>\n",
       "      <th>Status</th>\n",
       "    </tr>\n",
       "  </thead>\n",
       "  <tbody>\n",
       "    <tr>\n",
       "      <th>0</th>\n",
       "      <td>1.0</td>\n",
       "      <td>0.00994</td>\n",
       "      <td>14.3</td>\n",
       "      <td>1440.0</td>\n",
       "      <td>0.00674</td>\n",
       "      <td>58.7</td>\n",
       "      <td>Dy_auto</td>\n",
       "    </tr>\n",
       "    <tr>\n",
       "      <th>1</th>\n",
       "      <td>2.0</td>\n",
       "      <td>0.01260</td>\n",
       "      <td>16.4</td>\n",
       "      <td>1310.0</td>\n",
       "      <td>0.00853</td>\n",
       "      <td>67.6</td>\n",
       "      <td>Dy_auto</td>\n",
       "    </tr>\n",
       "    <tr>\n",
       "      <th>2</th>\n",
       "      <td>3.0</td>\n",
       "      <td>0.01580</td>\n",
       "      <td>16.1</td>\n",
       "      <td>1020.0</td>\n",
       "      <td>0.01070</td>\n",
       "      <td>66.3</td>\n",
       "      <td>Dy_auto</td>\n",
       "    </tr>\n",
       "    <tr>\n",
       "      <th>3</th>\n",
       "      <td>4.0</td>\n",
       "      <td>0.01990</td>\n",
       "      <td>16.6</td>\n",
       "      <td>832.0</td>\n",
       "      <td>0.01350</td>\n",
       "      <td>68.3</td>\n",
       "      <td>Dy_auto</td>\n",
       "    </tr>\n",
       "    <tr>\n",
       "      <th>4</th>\n",
       "      <td>5.0</td>\n",
       "      <td>0.02510</td>\n",
       "      <td>17.2</td>\n",
       "      <td>687.0</td>\n",
       "      <td>0.01700</td>\n",
       "      <td>70.9</td>\n",
       "      <td>Dy_auto</td>\n",
       "    </tr>\n",
       "  </tbody>\n",
       "</table>\n",
       "</div>"
      ],
      "text/plain": [
       "   Meas. Pts.  Shear Rate [1/s]  Shear Stress [Pa]  Viscosity [Pa·s]  \\\n",
       "0         1.0           0.00994               14.3            1440.0   \n",
       "1         2.0           0.01260               16.4            1310.0   \n",
       "2         3.0           0.01580               16.1            1020.0   \n",
       "3         4.0           0.01990               16.6             832.0   \n",
       "4         5.0           0.02510               17.2             687.0   \n",
       "\n",
       "   Speed [1/min]  Torque [µNm]   Status  \n",
       "0        0.00674          58.7  Dy_auto  \n",
       "1        0.00853          67.6  Dy_auto  \n",
       "2        0.01070          66.3  Dy_auto  \n",
       "3        0.01350          68.3  Dy_auto  \n",
       "4        0.01700          70.9  Dy_auto  "
      ]
     },
     "metadata": {},
     "output_type": "display_data"
    }
   ],
   "source": [
    "import pandas as pd             # handle csv\n",
    "import numpy as np              # math operations\n",
    "import matplotlib.pyplot as plt # draw plots\n",
    "\n",
    "# curve fitting packages\n",
    "from scipy import optimize\n",
    "from scipy.optimize import differential_evolution\n",
    "\n",
    "filename = \"./Prueba35NCI65GelatinaQuitosano.csv\"\n",
    "df       = pd.read_csv(filename)\n",
    "display(df.head())"
   ]
  },
  {
   "cell_type": "code",
   "execution_count": 2,
   "metadata": {},
   "outputs": [
    {
     "data": {
      "image/png": "[encoded data removed]",
      "text/plain": [
       "<Figure size 432x288 with 1 Axes>"
      ]
     },
     "metadata": {
      "needs_background": "light"
     },
     "output_type": "display_data"
    }
   ],
   "source": [
    "# The independent variable - xdata : array_like or object\n",
    "x = df[\"Shear Rate [1/s]\"]\n",
    "# The dependent data - ydata : array_like\n",
    "y = df[\"Viscosity [Pa·s]\"]\n",
    "\n",
    "plt.scatter(x, y)\n",
    "plt.xlabel(\"shear rate\")\n",
    "plt.ylabel(\"viscosity\")\n",
    "plt.xscale('log')\n",
    "plt.yscale('log')"
   ]
  },
  {
   "cell_type": "markdown",
   "metadata": {},
   "source": [
    "### Carreau-Yasuda Model\n",
    "#### $$ \\frac{\\eta - b}{a - b} = \\frac{1}{\\left[1 + \\left(c \\dot{\\gamma}\\right)^e\\right]^{\\frac{1 - d}{e}}} $$\n",
    "#### $$ \\eta = \\frac{\\eta_0 - \\eta_{\\infty}}{\\left[1 + \\left(\\kappa \\dot{\\gamma}\\right)^a\\right]^{\\frac{(1 - n)}{a}}} + \\eta_{\\infty} $$"
   ]
  },
  {
   "cell_type": "code",
   "execution_count": 3,
   "metadata": {},
   "outputs": [],
   "source": [
    "# The model function - f : callable\n",
    "def eta_(gamma, *p):\n",
    "    eta_0   = p[0]\n",
    "    eta_inf = p[1]\n",
    "    kappa   = p[2]\n",
    "    a       = p[3]\n",
    "    n       = p[4]\n",
    "    \n",
    "    nume = eta_0 - eta_inf;\n",
    "    base = 1 + (kappa * gamma)**a;\n",
    "    expo = (1 - n)/a;\n",
    "    deno = base**expo;\n",
    "    return (nume/deno) + eta_inf;"
   ]
  },
  {
   "cell_type": "code",
   "execution_count": 8,
   "metadata": {},
   "outputs": [],
   "source": [
    "# Lower and upper bounds on parameters - bounds : 2-tuple of array_like, optional\n",
    "# Osswald, T., Rudolph, N., Osswald, T., & Rudolph, N. (2014). Generalized Newtonian Fluid (GNF)\n",
    "# Models. Polymer Rheology, 59–99. https://doi.org/10.3139/9781569905234.003\n",
    "\n",
    "parametersBounds = [\n",
    "    [0.0, 35000],\n",
    "    [0.0, min(y)],\n",
    "    [110, 120],\n",
    "    [0.5, 1.0],\n",
    "    [-0.5, 0.0]\n",
    "]"
   ]
  },
  {
   "cell_type": "code",
   "execution_count": 9,
   "metadata": {},
   "outputs": [
    {
     "name": "stdout",
     "output_type": "stream",
     "text": [
      "[ 1.01197122e+04  2.87000000e-01  1.20000000e+02  5.00000000e-01\n",
      " -3.14439058e-01]\n"
     ]
    }
   ],
   "source": [
    "# Initial guess for the parameters - p0 : array_like, optional\n",
    "\n",
    "# parameters  -> [eta_0, eta_inf, kappa, a, n]\n",
    "# *parameters -> eta_0 eta_inf kappa a n\n",
    "\n",
    "def sumOfSquaredError(parameters):\n",
    "    y_model = eta_(x, *parameters)\n",
    "    SOSE = sum((y - y_model)**2.0)\n",
    "    return SOSE\n",
    "\n",
    "initialGuess   = differential_evolution(sumOfSquaredError, parametersBounds)\n",
    "parameterGuess = initialGuess.x\n",
    "print(parameterGuess)"
   ]
  },
  {
   "cell_type": "code",
   "execution_count": 10,
   "metadata": {},
   "outputs": [
    {
     "name": "stdout",
     "output_type": "stream",
     "text": [
      "[ 1.01475493e+04  2.87000000e-01  1.20000000e+02  5.00000000e-01\n",
      " -3.15940016e-01]\n"
     ]
    }
   ],
   "source": [
    "lowbound=[]\n",
    "upbound=[]\n",
    "for bound in parametersBounds:\n",
    "    lowbound.append(bound[0])\n",
    "    upbound.append(bound[1])\n",
    "\n",
    "model = optimize.curve_fit(\n",
    "    eta_, x, y, parameterGuess,\n",
    "    bounds = (lowbound, upbound)\n",
    ")\n",
    "fitParameters = model[0]\n",
    "print(fitParameters)"
   ]
  },
  {
   "cell_type": "code",
   "execution_count": 11,
   "metadata": {},
   "outputs": [
    {
     "data": {
      "image/png": "[encoded data removed]",
      "text/plain": [
       "<Figure size 432x288 with 1 Axes>"
      ]
     },
     "metadata": {
      "needs_background": "light"
     },
     "output_type": "display_data"
    }
   ],
   "source": [
    "y_fit = eta_(x, *fitParameters)\n",
    "plt.plot(x, y_fit)\n",
    "\n",
    "plt.scatter(x, y)\n",
    "plt.xlabel(\"shear rate\")\n",
    "plt.ylabel(\"viscosity\")\n",
    "plt.xscale('log')\n",
    "plt.yscale('log')"
   ]
  },
  {
   "cell_type": "code",
   "execution_count": null,
   "metadata": {},
   "outputs": [],
   "source": []
  }
 ],
 "metadata": {
  "kernelspec": {
   "display_name": "Python 3",
   "language": "python",
   "name": "python3"
  },
  "language_info": {
   "codemirror_mode": {
    "name": "ipython",
    "version": 3
   },
   "file_extension": ".py",
   "mimetype": "text/x-python",
   "name": "python",
   "nbconvert_exporter": "python",
   "pygments_lexer": "ipython3",
   "version": "3.7.7"
  }
 },
 "nbformat": 4,
 "nbformat_minor": 4
}
